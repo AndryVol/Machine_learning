{
  "nbformat": 4,
  "nbformat_minor": 0,
  "metadata": {
    "colab": {
      "name": "final_provider_v2.ipynb",
      "provenance": [],
      "collapsed_sections": []
    },
    "kernelspec": {
      "display_name": "Python 3",
      "language": "python",
      "name": "python3"
    },
    "language_info": {
      "codemirror_mode": {
        "name": "ipython",
        "version": 3
      },
      "file_extension": ".py",
      "mimetype": "text/x-python",
      "name": "python",
      "nbconvert_exporter": "python",
      "pygments_lexer": "ipython3",
      "version": "3.7.6"
    }
  },
  "cells": [
    {
      "cell_type": "markdown",
      "metadata": {
        "id": "TL3XwAMhllcl"
      },
      "source": [
        "# Постановка задачи.\n",
        "Для борьбы с оттоком клиентов из телекоммуникационной компании необходимо построить модель, которая определяет недовольных клиентов. Для удержания таких клиентов необходимо предложить им специальные условия."
      ]
    },
    {
      "cell_type": "markdown",
      "metadata": {
        "id": "OqrIh38KlwxY"
      },
      "source": [
        "Нам предоставили файлы с данными о клиентах:  \n",
        "**contact** - информация о договорах клиентов (актуальна на 01.02.2020г.);    \n",
        "**personal** - персональные данные клиентов;  \n",
        "**internet** - информация об интернет-услугах;  \n",
        "**phone** - информация об услугах телефонии."
      ]
    },
    {
      "cell_type": "code",
      "metadata": {
        "id": "FUWew9z2kBXz"
      },
      "source": [
        "import numpy as np\n",
        "import pandas as pd\n",
        "import matplotlib.pyplot as plt\n",
        "import seaborn as sns"
      ],
      "execution_count": null,
      "outputs": []
    },
    {
      "cell_type": "code",
      "metadata": {
        "id": "6E0SAiIokQVm"
      },
      "source": [
        "contact = pd.read_csv('/content/drive/My Drive/final_provider/contract.csv')\n",
        "internet = pd.read_csv('/content/drive/My Drive/final_provider/internet.csv')\n",
        "personal = pd.read_csv('/content/drive/My Drive/final_provider/personal.csv')\n",
        "phone = pd.read_csv('/content/drive/My Drive/final_provider/phone.csv')"
      ],
      "execution_count": null,
      "outputs": []
    },
    {
      "cell_type": "code",
      "metadata": {
        "id": "QJdi8oobpNb0"
      },
      "source": [
        "# contact = pd.read_csv('/datasets/final_provider/contract.csv')\n",
        "# internet = pd.read_csv('/datasets/final_provider/internet.csv')\n",
        "# personal = pd.read_csv('/datasets/final_provider/personal.csv')\n",
        "# phone = pd.read_csv('/datasets/final_provider/phone.csv')"
      ],
      "execution_count": null,
      "outputs": []
    },
    {
      "cell_type": "markdown",
      "metadata": {
        "id": "XftD9QPbyOLu"
      },
      "source": [
        "# План решения задачи:\n",
        "1. **Предобработка данных.** Посмотреть, что за данные нам даны, заполнить пропуски, скорректировать типы данных.\n",
        "2. **Анализ данных.** Аналитически определить от чего зависит решение клиента уйти, и сделать предположения как это исправить.\n",
        "3. **Построение модели.** Построение модели, которая бы выявляла клиентов, которые могут разорвать договор.\n"
      ]
    },
    {
      "cell_type": "markdown",
      "metadata": {
        "id": "0jLXavZlTv8R"
      },
      "source": [
        "# Анализ данных."
      ]
    },
    {
      "cell_type": "markdown",
      "metadata": {
        "id": "x_vYIsAEoFp7"
      },
      "source": [
        "## Изучим предоставленные данные."
      ]
    },
    {
      "cell_type": "markdown",
      "metadata": {
        "id": "cKLGj5B9ve1-"
      },
      "source": [
        "### Таблица **contact**."
      ]
    },
    {
      "cell_type": "code",
      "metadata": {
        "id": "mIHimrAEkqua",
        "outputId": "b4d8a197-ddb7-4631-a7d3-d7c232d6b1b8",
        "colab": {
          "base_uri": "https://localhost:8080/",
          "height": 204
        }
      },
      "source": [
        "contact.head()"
      ],
      "execution_count": null,
      "outputs": [
        {
          "output_type": "execute_result",
          "data": {
            "text/html": [
              "<div>\n",
              "<style scoped>\n",
              "    .dataframe tbody tr th:only-of-type {\n",
              "        vertical-align: middle;\n",
              "    }\n",
              "\n",
              "    .dataframe tbody tr th {\n",
              "        vertical-align: top;\n",
              "    }\n",
              "\n",
              "    .dataframe thead th {\n",
              "        text-align: right;\n",
              "    }\n",
              "</style>\n",
              "<table border=\"1\" class=\"dataframe\">\n",
              "  <thead>\n",
              "    <tr style=\"text-align: right;\">\n",
              "      <th></th>\n",
              "      <th>customerID</th>\n",
              "      <th>BeginDate</th>\n",
              "      <th>EndDate</th>\n",
              "      <th>Type</th>\n",
              "      <th>PaperlessBilling</th>\n",
              "      <th>PaymentMethod</th>\n",
              "      <th>MonthlyCharges</th>\n",
              "      <th>TotalCharges</th>\n",
              "    </tr>\n",
              "  </thead>\n",
              "  <tbody>\n",
              "    <tr>\n",
              "      <th>0</th>\n",
              "      <td>7590-VHVEG</td>\n",
              "      <td>2020-01-01</td>\n",
              "      <td>No</td>\n",
              "      <td>Month-to-month</td>\n",
              "      <td>Yes</td>\n",
              "      <td>Electronic check</td>\n",
              "      <td>29.85</td>\n",
              "      <td>29.85</td>\n",
              "    </tr>\n",
              "    <tr>\n",
              "      <th>1</th>\n",
              "      <td>5575-GNVDE</td>\n",
              "      <td>2017-04-01</td>\n",
              "      <td>No</td>\n",
              "      <td>One year</td>\n",
              "      <td>No</td>\n",
              "      <td>Mailed check</td>\n",
              "      <td>56.95</td>\n",
              "      <td>1889.5</td>\n",
              "    </tr>\n",
              "    <tr>\n",
              "      <th>2</th>\n",
              "      <td>3668-QPYBK</td>\n",
              "      <td>2019-10-01</td>\n",
              "      <td>2019-12-01 00:00:00</td>\n",
              "      <td>Month-to-month</td>\n",
              "      <td>Yes</td>\n",
              "      <td>Mailed check</td>\n",
              "      <td>53.85</td>\n",
              "      <td>108.15</td>\n",
              "    </tr>\n",
              "    <tr>\n",
              "      <th>3</th>\n",
              "      <td>7795-CFOCW</td>\n",
              "      <td>2016-05-01</td>\n",
              "      <td>No</td>\n",
              "      <td>One year</td>\n",
              "      <td>No</td>\n",
              "      <td>Bank transfer (automatic)</td>\n",
              "      <td>42.30</td>\n",
              "      <td>1840.75</td>\n",
              "    </tr>\n",
              "    <tr>\n",
              "      <th>4</th>\n",
              "      <td>9237-HQITU</td>\n",
              "      <td>2019-09-01</td>\n",
              "      <td>2019-11-01 00:00:00</td>\n",
              "      <td>Month-to-month</td>\n",
              "      <td>Yes</td>\n",
              "      <td>Electronic check</td>\n",
              "      <td>70.70</td>\n",
              "      <td>151.65</td>\n",
              "    </tr>\n",
              "  </tbody>\n",
              "</table>\n",
              "</div>"
            ],
            "text/plain": [
              "   customerID   BeginDate  ... MonthlyCharges TotalCharges\n",
              "0  7590-VHVEG  2020-01-01  ...          29.85        29.85\n",
              "1  5575-GNVDE  2017-04-01  ...          56.95       1889.5\n",
              "2  3668-QPYBK  2019-10-01  ...          53.85       108.15\n",
              "3  7795-CFOCW  2016-05-01  ...          42.30      1840.75\n",
              "4  9237-HQITU  2019-09-01  ...          70.70       151.65\n",
              "\n",
              "[5 rows x 8 columns]"
            ]
          },
          "metadata": {
            "tags": []
          },
          "execution_count": 6
        }
      ]
    },
    {
      "cell_type": "code",
      "metadata": {
        "id": "-1lpT1VUof4U"
      },
      "source": [
        "contact.columns = contact.columns.str.lower()"
      ],
      "execution_count": null,
      "outputs": []
    },
    {
      "cell_type": "markdown",
      "metadata": {
        "id": "xmtekHZHp-gr"
      },
      "source": [
        "Таблица содержит следующие данные:  \n",
        "**customerid** - ID клиента;  \n",
        "**begindate** - дата заключения договора;  \n",
        "**enddate** - дата расторжения договора;  \n",
        "**type** - продолжительность заключенного договора;  \n",
        "**paperlessbilling** - нужен ли бумажный счет на оплату;  \n",
        "**paymentmethod** - способ оплаты;  \n",
        "**monthlycharges** - ежемесячный платеж;  \n",
        "**totalcharges** - общие расходы.\n"
      ]
    },
    {
      "cell_type": "code",
      "metadata": {
        "id": "wSpZwnO-o_K9",
        "outputId": "14e418ed-7b0e-4f3c-e9d3-c0c9893fb8d3",
        "colab": {
          "base_uri": "https://localhost:8080/",
          "height": 306
        }
      },
      "source": [
        "print('Общая информация о таблице:')\n",
        "print()\n",
        "contact.info()"
      ],
      "execution_count": null,
      "outputs": [
        {
          "output_type": "stream",
          "text": [
            "Общая информация о таблице:\n",
            "\n",
            "<class 'pandas.core.frame.DataFrame'>\n",
            "RangeIndex: 7043 entries, 0 to 7042\n",
            "Data columns (total 8 columns):\n",
            " #   Column            Non-Null Count  Dtype  \n",
            "---  ------            --------------  -----  \n",
            " 0   customerid        7043 non-null   object \n",
            " 1   begindate         7043 non-null   object \n",
            " 2   enddate           7043 non-null   object \n",
            " 3   type              7043 non-null   object \n",
            " 4   paperlessbilling  7043 non-null   object \n",
            " 5   paymentmethod     7043 non-null   object \n",
            " 6   monthlycharges    7043 non-null   float64\n",
            " 7   totalcharges      7043 non-null   object \n",
            "dtypes: float64(1), object(7)\n",
            "memory usage: 440.3+ KB\n"
          ],
          "name": "stdout"
        }
      ]
    },
    {
      "cell_type": "code",
      "metadata": {
        "id": "j50Ah38lpgYN",
        "outputId": "c04275cb-34d1-4b39-cfef-47f73693f93e",
        "colab": {
          "base_uri": "https://localhost:8080/",
          "height": 204
        }
      },
      "source": [
        "print('Пропущенные значения:')\n",
        "print()\n",
        "contact.isna().sum()"
      ],
      "execution_count": null,
      "outputs": [
        {
          "output_type": "stream",
          "text": [
            "Пропущенные значения:\n",
            "\n"
          ],
          "name": "stdout"
        },
        {
          "output_type": "execute_result",
          "data": {
            "text/plain": [
              "customerid          0\n",
              "begindate           0\n",
              "enddate             0\n",
              "type                0\n",
              "paperlessbilling    0\n",
              "paymentmethod       0\n",
              "monthlycharges      0\n",
              "totalcharges        0\n",
              "dtype: int64"
            ]
          },
          "metadata": {
            "tags": []
          },
          "execution_count": 9
        }
      ]
    },
    {
      "cell_type": "code",
      "metadata": {
        "id": "oE42oRappgDq",
        "outputId": "8ca20241-1c58-4e91-8427-6d5009f060ab",
        "colab": {
          "base_uri": "https://localhost:8080/",
          "height": 51
        }
      },
      "source": [
        "print('Количество дублирующихся значений:', contact.duplicated().sum())\n",
        "print('Количество дублирующихся ID клиента:', contact.duplicated(subset='customerid').sum())"
      ],
      "execution_count": null,
      "outputs": [
        {
          "output_type": "stream",
          "text": [
            "Количество дублирующихся значений: 0\n",
            "Количество дублирующихся ID клиента: 0\n"
          ],
          "name": "stdout"
        }
      ]
    },
    {
      "cell_type": "code",
      "metadata": {
        "id": "Me7u7uz-pfnF",
        "outputId": "4dc48d90-6690-4f6a-e30e-438c1adeeb43",
        "colab": {
          "base_uri": "https://localhost:8080/",
          "height": 68
        }
      },
      "source": [
        "print('Варианты paperlessbilling:\\n', contact['paperlessbilling'].unique().reshape(-1,1))"
      ],
      "execution_count": null,
      "outputs": [
        {
          "output_type": "stream",
          "text": [
            "Варианты paperlessbilling:\n",
            " [['Yes']\n",
            " ['No']]\n"
          ],
          "name": "stdout"
        }
      ]
    },
    {
      "cell_type": "code",
      "metadata": {
        "id": "xL3DD_PmpfDk",
        "outputId": "b2093047-dead-4d5f-b4f9-2b7b51143a6f",
        "colab": {
          "base_uri": "https://localhost:8080/",
          "height": 102
        }
      },
      "source": [
        "print('Варианты способов оплаты:\\n', contact['paymentmethod'].unique().reshape(-1,1))"
      ],
      "execution_count": null,
      "outputs": [
        {
          "output_type": "stream",
          "text": [
            "Варианты способов оплаты:\n",
            " [['Electronic check']\n",
            " ['Mailed check']\n",
            " ['Bank transfer (automatic)']\n",
            " ['Credit card (automatic)']]\n"
          ],
          "name": "stdout"
        }
      ]
    },
    {
      "cell_type": "markdown",
      "metadata": {
        "id": "32Ag2bz8vxwu"
      },
      "source": [
        "Рассмотрим столбец общих расходов.  \n",
        "У него должен быть вещественный тип данных, однако сейчас это не так.  \n",
        "Посмотрим какие там данные."
      ]
    },
    {
      "cell_type": "code",
      "metadata": {
        "id": "Z2wZGydetmNb",
        "outputId": "a50b5003-2826-41c4-fbe1-5150f19cad15",
        "colab": {
          "base_uri": "https://localhost:8080/",
          "height": 221
        }
      },
      "source": [
        "contact['totalcharges'].value_counts()"
      ],
      "execution_count": null,
      "outputs": [
        {
          "output_type": "execute_result",
          "data": {
            "text/plain": [
              "           11\n",
              "20.2       11\n",
              "19.75       9\n",
              "19.9        8\n",
              "20.05       8\n",
              "           ..\n",
              "7746.7      1\n",
              "4895.1      1\n",
              "266.95      1\n",
              "3775.85     1\n",
              "1663.5      1\n",
              "Name: totalcharges, Length: 6531, dtype: int64"
            ]
          },
          "metadata": {
            "tags": []
          },
          "execution_count": 13
        }
      ]
    },
    {
      "cell_type": "markdown",
      "metadata": {
        "id": "3RFmJecXwmiI"
      },
      "source": [
        "В столбце totalcharges есть 11 не заполненных значений.  \n",
        "Посмотрим, что это за клиенты."
      ]
    },
    {
      "cell_type": "code",
      "metadata": {
        "id": "mMNGqm8wtnJM",
        "outputId": "c5619961-21d8-4721-fa05-cb68109466d1",
        "colab": {
          "base_uri": "https://localhost:8080/",
          "height": 390
        }
      },
      "source": [
        "contact[contact['totalcharges'] == ' ']"
      ],
      "execution_count": null,
      "outputs": [
        {
          "output_type": "execute_result",
          "data": {
            "text/html": [
              "<div>\n",
              "<style scoped>\n",
              "    .dataframe tbody tr th:only-of-type {\n",
              "        vertical-align: middle;\n",
              "    }\n",
              "\n",
              "    .dataframe tbody tr th {\n",
              "        vertical-align: top;\n",
              "    }\n",
              "\n",
              "    .dataframe thead th {\n",
              "        text-align: right;\n",
              "    }\n",
              "</style>\n",
              "<table border=\"1\" class=\"dataframe\">\n",
              "  <thead>\n",
              "    <tr style=\"text-align: right;\">\n",
              "      <th></th>\n",
              "      <th>customerid</th>\n",
              "      <th>begindate</th>\n",
              "      <th>enddate</th>\n",
              "      <th>type</th>\n",
              "      <th>paperlessbilling</th>\n",
              "      <th>paymentmethod</th>\n",
              "      <th>monthlycharges</th>\n",
              "      <th>totalcharges</th>\n",
              "    </tr>\n",
              "  </thead>\n",
              "  <tbody>\n",
              "    <tr>\n",
              "      <th>488</th>\n",
              "      <td>4472-LVYGI</td>\n",
              "      <td>2020-02-01</td>\n",
              "      <td>No</td>\n",
              "      <td>Two year</td>\n",
              "      <td>Yes</td>\n",
              "      <td>Bank transfer (automatic)</td>\n",
              "      <td>52.55</td>\n",
              "      <td></td>\n",
              "    </tr>\n",
              "    <tr>\n",
              "      <th>753</th>\n",
              "      <td>3115-CZMZD</td>\n",
              "      <td>2020-02-01</td>\n",
              "      <td>No</td>\n",
              "      <td>Two year</td>\n",
              "      <td>No</td>\n",
              "      <td>Mailed check</td>\n",
              "      <td>20.25</td>\n",
              "      <td></td>\n",
              "    </tr>\n",
              "    <tr>\n",
              "      <th>936</th>\n",
              "      <td>5709-LVOEQ</td>\n",
              "      <td>2020-02-01</td>\n",
              "      <td>No</td>\n",
              "      <td>Two year</td>\n",
              "      <td>No</td>\n",
              "      <td>Mailed check</td>\n",
              "      <td>80.85</td>\n",
              "      <td></td>\n",
              "    </tr>\n",
              "    <tr>\n",
              "      <th>1082</th>\n",
              "      <td>4367-NUYAO</td>\n",
              "      <td>2020-02-01</td>\n",
              "      <td>No</td>\n",
              "      <td>Two year</td>\n",
              "      <td>No</td>\n",
              "      <td>Mailed check</td>\n",
              "      <td>25.75</td>\n",
              "      <td></td>\n",
              "    </tr>\n",
              "    <tr>\n",
              "      <th>1340</th>\n",
              "      <td>1371-DWPAZ</td>\n",
              "      <td>2020-02-01</td>\n",
              "      <td>No</td>\n",
              "      <td>Two year</td>\n",
              "      <td>No</td>\n",
              "      <td>Credit card (automatic)</td>\n",
              "      <td>56.05</td>\n",
              "      <td></td>\n",
              "    </tr>\n",
              "    <tr>\n",
              "      <th>3331</th>\n",
              "      <td>7644-OMVMY</td>\n",
              "      <td>2020-02-01</td>\n",
              "      <td>No</td>\n",
              "      <td>Two year</td>\n",
              "      <td>No</td>\n",
              "      <td>Mailed check</td>\n",
              "      <td>19.85</td>\n",
              "      <td></td>\n",
              "    </tr>\n",
              "    <tr>\n",
              "      <th>3826</th>\n",
              "      <td>3213-VVOLG</td>\n",
              "      <td>2020-02-01</td>\n",
              "      <td>No</td>\n",
              "      <td>Two year</td>\n",
              "      <td>No</td>\n",
              "      <td>Mailed check</td>\n",
              "      <td>25.35</td>\n",
              "      <td></td>\n",
              "    </tr>\n",
              "    <tr>\n",
              "      <th>4380</th>\n",
              "      <td>2520-SGTTA</td>\n",
              "      <td>2020-02-01</td>\n",
              "      <td>No</td>\n",
              "      <td>Two year</td>\n",
              "      <td>No</td>\n",
              "      <td>Mailed check</td>\n",
              "      <td>20.00</td>\n",
              "      <td></td>\n",
              "    </tr>\n",
              "    <tr>\n",
              "      <th>5218</th>\n",
              "      <td>2923-ARZLG</td>\n",
              "      <td>2020-02-01</td>\n",
              "      <td>No</td>\n",
              "      <td>One year</td>\n",
              "      <td>Yes</td>\n",
              "      <td>Mailed check</td>\n",
              "      <td>19.70</td>\n",
              "      <td></td>\n",
              "    </tr>\n",
              "    <tr>\n",
              "      <th>6670</th>\n",
              "      <td>4075-WKNIU</td>\n",
              "      <td>2020-02-01</td>\n",
              "      <td>No</td>\n",
              "      <td>Two year</td>\n",
              "      <td>No</td>\n",
              "      <td>Mailed check</td>\n",
              "      <td>73.35</td>\n",
              "      <td></td>\n",
              "    </tr>\n",
              "    <tr>\n",
              "      <th>6754</th>\n",
              "      <td>2775-SEFEE</td>\n",
              "      <td>2020-02-01</td>\n",
              "      <td>No</td>\n",
              "      <td>Two year</td>\n",
              "      <td>Yes</td>\n",
              "      <td>Bank transfer (automatic)</td>\n",
              "      <td>61.90</td>\n",
              "      <td></td>\n",
              "    </tr>\n",
              "  </tbody>\n",
              "</table>\n",
              "</div>"
            ],
            "text/plain": [
              "      customerid   begindate  ... monthlycharges totalcharges\n",
              "488   4472-LVYGI  2020-02-01  ...          52.55             \n",
              "753   3115-CZMZD  2020-02-01  ...          20.25             \n",
              "936   5709-LVOEQ  2020-02-01  ...          80.85             \n",
              "1082  4367-NUYAO  2020-02-01  ...          25.75             \n",
              "1340  1371-DWPAZ  2020-02-01  ...          56.05             \n",
              "3331  7644-OMVMY  2020-02-01  ...          19.85             \n",
              "3826  3213-VVOLG  2020-02-01  ...          25.35             \n",
              "4380  2520-SGTTA  2020-02-01  ...          20.00             \n",
              "5218  2923-ARZLG  2020-02-01  ...          19.70             \n",
              "6670  4075-WKNIU  2020-02-01  ...          73.35             \n",
              "6754  2775-SEFEE  2020-02-01  ...          61.90             \n",
              "\n",
              "[11 rows x 8 columns]"
            ]
          },
          "metadata": {
            "tags": []
          },
          "execution_count": 14
        }
      ]
    },
    {
      "cell_type": "markdown",
      "metadata": {
        "id": "U8ZnZjvqxmY7"
      },
      "source": [
        "Видно, что это клиенты у которых договор начинает действовать с 1 февраля 2020г.  \n",
        "Нам предоставили данные до этого месяца, поэтому общие расходы таких клиентов можно приравнять к расходам за месяц."
      ]
    },
    {
      "cell_type": "code",
      "metadata": {
        "id": "oIxY2YtrtnYR"
      },
      "source": [
        "contact.loc[contact['totalcharges'] == ' ', 'totalcharges'] = contact.loc[contact['totalcharges'] == ' ', 'monthlycharges']"
      ],
      "execution_count": null,
      "outputs": []
    },
    {
      "cell_type": "markdown",
      "metadata": {
        "id": "PJwnPEWSzDJ4"
      },
      "source": [
        "Преобразуем типы данных в некоторых столбцах:  \n",
        "**begindate** - изменим тип на datetime;  \n",
        "**enddate** - уберем информацию о времени, в значениях дат;  \n",
        "**totalcharges** - изменим тип на float."
      ]
    },
    {
      "cell_type": "code",
      "metadata": {
        "id": "57UVf4AhtnsR"
      },
      "source": [
        "contact['begindate'] = pd.to_datetime(contact['begindate'])"
      ],
      "execution_count": null,
      "outputs": []
    },
    {
      "cell_type": "code",
      "metadata": {
        "id": "qDjDSNc-2iwa"
      },
      "source": [
        "temp_contact = contact[contact['enddate'] != 'No'].copy()\n",
        "temp_contact['enddate'] = pd.to_datetime(temp_contact['enddate'])\n",
        "contact.loc[contact['enddate'] != 'No', 'enddate'] = temp_contact['enddate'].astype('str')"
      ],
      "execution_count": null,
      "outputs": []
    },
    {
      "cell_type": "code",
      "metadata": {
        "id": "wGk7jVwWtnxn"
      },
      "source": [
        "contact['totalcharges'] = contact['totalcharges'].astype('float')"
      ],
      "execution_count": null,
      "outputs": []
    },
    {
      "cell_type": "markdown",
      "metadata": {
        "id": "HMlzsLT75wiX"
      },
      "source": [
        "В итоге получили таблицу:"
      ]
    },
    {
      "cell_type": "code",
      "metadata": {
        "id": "fp2TBBzbtno4",
        "outputId": "a9ddda5a-7201-43a7-a47b-97f76aa7f23e",
        "colab": {
          "base_uri": "https://localhost:8080/",
          "height": 204
        }
      },
      "source": [
        "contact.head()"
      ],
      "execution_count": null,
      "outputs": [
        {
          "output_type": "execute_result",
          "data": {
            "text/html": [
              "<div>\n",
              "<style scoped>\n",
              "    .dataframe tbody tr th:only-of-type {\n",
              "        vertical-align: middle;\n",
              "    }\n",
              "\n",
              "    .dataframe tbody tr th {\n",
              "        vertical-align: top;\n",
              "    }\n",
              "\n",
              "    .dataframe thead th {\n",
              "        text-align: right;\n",
              "    }\n",
              "</style>\n",
              "<table border=\"1\" class=\"dataframe\">\n",
              "  <thead>\n",
              "    <tr style=\"text-align: right;\">\n",
              "      <th></th>\n",
              "      <th>customerid</th>\n",
              "      <th>begindate</th>\n",
              "      <th>enddate</th>\n",
              "      <th>type</th>\n",
              "      <th>paperlessbilling</th>\n",
              "      <th>paymentmethod</th>\n",
              "      <th>monthlycharges</th>\n",
              "      <th>totalcharges</th>\n",
              "    </tr>\n",
              "  </thead>\n",
              "  <tbody>\n",
              "    <tr>\n",
              "      <th>0</th>\n",
              "      <td>7590-VHVEG</td>\n",
              "      <td>2020-01-01</td>\n",
              "      <td>No</td>\n",
              "      <td>Month-to-month</td>\n",
              "      <td>Yes</td>\n",
              "      <td>Electronic check</td>\n",
              "      <td>29.85</td>\n",
              "      <td>29.85</td>\n",
              "    </tr>\n",
              "    <tr>\n",
              "      <th>1</th>\n",
              "      <td>5575-GNVDE</td>\n",
              "      <td>2017-04-01</td>\n",
              "      <td>No</td>\n",
              "      <td>One year</td>\n",
              "      <td>No</td>\n",
              "      <td>Mailed check</td>\n",
              "      <td>56.95</td>\n",
              "      <td>1889.50</td>\n",
              "    </tr>\n",
              "    <tr>\n",
              "      <th>2</th>\n",
              "      <td>3668-QPYBK</td>\n",
              "      <td>2019-10-01</td>\n",
              "      <td>2019-12-01</td>\n",
              "      <td>Month-to-month</td>\n",
              "      <td>Yes</td>\n",
              "      <td>Mailed check</td>\n",
              "      <td>53.85</td>\n",
              "      <td>108.15</td>\n",
              "    </tr>\n",
              "    <tr>\n",
              "      <th>3</th>\n",
              "      <td>7795-CFOCW</td>\n",
              "      <td>2016-05-01</td>\n",
              "      <td>No</td>\n",
              "      <td>One year</td>\n",
              "      <td>No</td>\n",
              "      <td>Bank transfer (automatic)</td>\n",
              "      <td>42.30</td>\n",
              "      <td>1840.75</td>\n",
              "    </tr>\n",
              "    <tr>\n",
              "      <th>4</th>\n",
              "      <td>9237-HQITU</td>\n",
              "      <td>2019-09-01</td>\n",
              "      <td>2019-11-01</td>\n",
              "      <td>Month-to-month</td>\n",
              "      <td>Yes</td>\n",
              "      <td>Electronic check</td>\n",
              "      <td>70.70</td>\n",
              "      <td>151.65</td>\n",
              "    </tr>\n",
              "  </tbody>\n",
              "</table>\n",
              "</div>"
            ],
            "text/plain": [
              "   customerid  begindate  ... monthlycharges totalcharges\n",
              "0  7590-VHVEG 2020-01-01  ...          29.85        29.85\n",
              "1  5575-GNVDE 2017-04-01  ...          56.95      1889.50\n",
              "2  3668-QPYBK 2019-10-01  ...          53.85       108.15\n",
              "3  7795-CFOCW 2016-05-01  ...          42.30      1840.75\n",
              "4  9237-HQITU 2019-09-01  ...          70.70       151.65\n",
              "\n",
              "[5 rows x 8 columns]"
            ]
          },
          "metadata": {
            "tags": []
          },
          "execution_count": 19
        }
      ]
    },
    {
      "cell_type": "code",
      "metadata": {
        "id": "eKRVD2QatngC",
        "outputId": "82797035-91ad-40d1-8819-f5efa16557f8",
        "colab": {
          "base_uri": "https://localhost:8080/",
          "height": 272
        }
      },
      "source": [
        "contact.info()"
      ],
      "execution_count": null,
      "outputs": [
        {
          "output_type": "stream",
          "text": [
            "<class 'pandas.core.frame.DataFrame'>\n",
            "RangeIndex: 7043 entries, 0 to 7042\n",
            "Data columns (total 8 columns):\n",
            " #   Column            Non-Null Count  Dtype         \n",
            "---  ------            --------------  -----         \n",
            " 0   customerid        7043 non-null   object        \n",
            " 1   begindate         7043 non-null   datetime64[ns]\n",
            " 2   enddate           7043 non-null   object        \n",
            " 3   type              7043 non-null   object        \n",
            " 4   paperlessbilling  7043 non-null   object        \n",
            " 5   paymentmethod     7043 non-null   object        \n",
            " 6   monthlycharges    7043 non-null   float64       \n",
            " 7   totalcharges      7043 non-null   float64       \n",
            "dtypes: datetime64[ns](1), float64(2), object(5)\n",
            "memory usage: 440.3+ KB\n"
          ],
          "name": "stdout"
        }
      ]
    },
    {
      "cell_type": "markdown",
      "metadata": {
        "id": "WpYEbaB_6MlE"
      },
      "source": [
        "Добавим информацию о том сколько месяцев клиент пользовался услугами оператора, год и месяц открытия и закрытия договора"
      ]
    },
    {
      "cell_type": "code",
      "metadata": {
        "id": "sW7fQyeS0sa9"
      },
      "source": [
        "for i,_ in temp_contact.iterrows():\n",
        "  temp_contact.loc[i, 'totaltime'] = len(pd.date_range(start=temp_contact.loc[i,'begindate'], \n",
        "                                                       end=temp_contact.loc[i,'enddate'], \n",
        "                                                       freq='M'))"
      ],
      "execution_count": null,
      "outputs": []
    },
    {
      "cell_type": "code",
      "metadata": {
        "id": "tMH9cltt9EV-"
      },
      "source": [
        "temp_contact['endmonth'] = pd.DatetimeIndex(temp_contact['enddate']).month\n",
        "temp_contact['endyear'] = pd.DatetimeIndex(temp_contact['enddate']).year"
      ],
      "execution_count": null,
      "outputs": []
    },
    {
      "cell_type": "code",
      "metadata": {
        "id": "MunQo0mL-vng"
      },
      "source": [
        "contact.loc[contact['enddate'] != 'No', 'totaltime'] = temp_contact['totaltime']\n",
        "contact.loc[contact['enddate'] != 'No', 'endmonth'] = temp_contact['endmonth']\n",
        "contact.loc[contact['enddate'] != 'No', 'endyear'] = temp_contact['endyear']"
      ],
      "execution_count": null,
      "outputs": []
    },
    {
      "cell_type": "code",
      "metadata": {
        "id": "DcXFBz6D0sju",
        "outputId": "ecbc452b-a8ab-4192-ff62-f39e6ccdd361",
        "colab": {
          "base_uri": "https://localhost:8080/",
          "height": 204
        }
      },
      "source": [
        "contact.head()"
      ],
      "execution_count": null,
      "outputs": [
        {
          "output_type": "execute_result",
          "data": {
            "text/html": [
              "<div>\n",
              "<style scoped>\n",
              "    .dataframe tbody tr th:only-of-type {\n",
              "        vertical-align: middle;\n",
              "    }\n",
              "\n",
              "    .dataframe tbody tr th {\n",
              "        vertical-align: top;\n",
              "    }\n",
              "\n",
              "    .dataframe thead th {\n",
              "        text-align: right;\n",
              "    }\n",
              "</style>\n",
              "<table border=\"1\" class=\"dataframe\">\n",
              "  <thead>\n",
              "    <tr style=\"text-align: right;\">\n",
              "      <th></th>\n",
              "      <th>customerid</th>\n",
              "      <th>begindate</th>\n",
              "      <th>enddate</th>\n",
              "      <th>type</th>\n",
              "      <th>paperlessbilling</th>\n",
              "      <th>paymentmethod</th>\n",
              "      <th>monthlycharges</th>\n",
              "      <th>totalcharges</th>\n",
              "      <th>totaltime</th>\n",
              "      <th>endmonth</th>\n",
              "      <th>endyear</th>\n",
              "    </tr>\n",
              "  </thead>\n",
              "  <tbody>\n",
              "    <tr>\n",
              "      <th>0</th>\n",
              "      <td>7590-VHVEG</td>\n",
              "      <td>2020-01-01</td>\n",
              "      <td>No</td>\n",
              "      <td>Month-to-month</td>\n",
              "      <td>Yes</td>\n",
              "      <td>Electronic check</td>\n",
              "      <td>29.85</td>\n",
              "      <td>29.85</td>\n",
              "      <td>NaN</td>\n",
              "      <td>NaN</td>\n",
              "      <td>NaN</td>\n",
              "    </tr>\n",
              "    <tr>\n",
              "      <th>1</th>\n",
              "      <td>5575-GNVDE</td>\n",
              "      <td>2017-04-01</td>\n",
              "      <td>No</td>\n",
              "      <td>One year</td>\n",
              "      <td>No</td>\n",
              "      <td>Mailed check</td>\n",
              "      <td>56.95</td>\n",
              "      <td>1889.50</td>\n",
              "      <td>NaN</td>\n",
              "      <td>NaN</td>\n",
              "      <td>NaN</td>\n",
              "    </tr>\n",
              "    <tr>\n",
              "      <th>2</th>\n",
              "      <td>3668-QPYBK</td>\n",
              "      <td>2019-10-01</td>\n",
              "      <td>2019-12-01</td>\n",
              "      <td>Month-to-month</td>\n",
              "      <td>Yes</td>\n",
              "      <td>Mailed check</td>\n",
              "      <td>53.85</td>\n",
              "      <td>108.15</td>\n",
              "      <td>2.0</td>\n",
              "      <td>12.0</td>\n",
              "      <td>2019.0</td>\n",
              "    </tr>\n",
              "    <tr>\n",
              "      <th>3</th>\n",
              "      <td>7795-CFOCW</td>\n",
              "      <td>2016-05-01</td>\n",
              "      <td>No</td>\n",
              "      <td>One year</td>\n",
              "      <td>No</td>\n",
              "      <td>Bank transfer (automatic)</td>\n",
              "      <td>42.30</td>\n",
              "      <td>1840.75</td>\n",
              "      <td>NaN</td>\n",
              "      <td>NaN</td>\n",
              "      <td>NaN</td>\n",
              "    </tr>\n",
              "    <tr>\n",
              "      <th>4</th>\n",
              "      <td>9237-HQITU</td>\n",
              "      <td>2019-09-01</td>\n",
              "      <td>2019-11-01</td>\n",
              "      <td>Month-to-month</td>\n",
              "      <td>Yes</td>\n",
              "      <td>Electronic check</td>\n",
              "      <td>70.70</td>\n",
              "      <td>151.65</td>\n",
              "      <td>2.0</td>\n",
              "      <td>11.0</td>\n",
              "      <td>2019.0</td>\n",
              "    </tr>\n",
              "  </tbody>\n",
              "</table>\n",
              "</div>"
            ],
            "text/plain": [
              "   customerid  begindate     enddate  ... totaltime endmonth endyear\n",
              "0  7590-VHVEG 2020-01-01          No  ...       NaN      NaN     NaN\n",
              "1  5575-GNVDE 2017-04-01          No  ...       NaN      NaN     NaN\n",
              "2  3668-QPYBK 2019-10-01  2019-12-01  ...       2.0     12.0  2019.0\n",
              "3  7795-CFOCW 2016-05-01          No  ...       NaN      NaN     NaN\n",
              "4  9237-HQITU 2019-09-01  2019-11-01  ...       2.0     11.0  2019.0\n",
              "\n",
              "[5 rows x 11 columns]"
            ]
          },
          "metadata": {
            "tags": []
          },
          "execution_count": 24
        }
      ]
    },
    {
      "cell_type": "code",
      "metadata": {
        "id": "tJtrJaVUMjji"
      },
      "source": [
        "for i,_ in contact[contact['enddate'] == 'No'].iterrows():\n",
        "  contact.loc[i, 'totaltime'] = len(pd.date_range(start=contact.loc[i,'begindate'], \n",
        "                                                       end=pd.to_datetime('2020-02-01'), \n",
        "                                                       freq='M'))"
      ],
      "execution_count": null,
      "outputs": []
    },
    {
      "cell_type": "code",
      "metadata": {
        "id": "JUGpw9R00sr6",
        "outputId": "8267c186-634d-4725-9098-e91c7a412815",
        "colab": {
          "base_uri": "https://localhost:8080/",
          "height": 204
        }
      },
      "source": [
        "contact.head()"
      ],
      "execution_count": null,
      "outputs": [
        {
          "output_type": "execute_result",
          "data": {
            "text/html": [
              "<div>\n",
              "<style scoped>\n",
              "    .dataframe tbody tr th:only-of-type {\n",
              "        vertical-align: middle;\n",
              "    }\n",
              "\n",
              "    .dataframe tbody tr th {\n",
              "        vertical-align: top;\n",
              "    }\n",
              "\n",
              "    .dataframe thead th {\n",
              "        text-align: right;\n",
              "    }\n",
              "</style>\n",
              "<table border=\"1\" class=\"dataframe\">\n",
              "  <thead>\n",
              "    <tr style=\"text-align: right;\">\n",
              "      <th></th>\n",
              "      <th>customerid</th>\n",
              "      <th>begindate</th>\n",
              "      <th>enddate</th>\n",
              "      <th>type</th>\n",
              "      <th>paperlessbilling</th>\n",
              "      <th>paymentmethod</th>\n",
              "      <th>monthlycharges</th>\n",
              "      <th>totalcharges</th>\n",
              "      <th>totaltime</th>\n",
              "      <th>endmonth</th>\n",
              "      <th>endyear</th>\n",
              "    </tr>\n",
              "  </thead>\n",
              "  <tbody>\n",
              "    <tr>\n",
              "      <th>0</th>\n",
              "      <td>7590-VHVEG</td>\n",
              "      <td>2020-01-01</td>\n",
              "      <td>No</td>\n",
              "      <td>Month-to-month</td>\n",
              "      <td>Yes</td>\n",
              "      <td>Electronic check</td>\n",
              "      <td>29.85</td>\n",
              "      <td>29.85</td>\n",
              "      <td>1.0</td>\n",
              "      <td>NaN</td>\n",
              "      <td>NaN</td>\n",
              "    </tr>\n",
              "    <tr>\n",
              "      <th>1</th>\n",
              "      <td>5575-GNVDE</td>\n",
              "      <td>2017-04-01</td>\n",
              "      <td>No</td>\n",
              "      <td>One year</td>\n",
              "      <td>No</td>\n",
              "      <td>Mailed check</td>\n",
              "      <td>56.95</td>\n",
              "      <td>1889.50</td>\n",
              "      <td>34.0</td>\n",
              "      <td>NaN</td>\n",
              "      <td>NaN</td>\n",
              "    </tr>\n",
              "    <tr>\n",
              "      <th>2</th>\n",
              "      <td>3668-QPYBK</td>\n",
              "      <td>2019-10-01</td>\n",
              "      <td>2019-12-01</td>\n",
              "      <td>Month-to-month</td>\n",
              "      <td>Yes</td>\n",
              "      <td>Mailed check</td>\n",
              "      <td>53.85</td>\n",
              "      <td>108.15</td>\n",
              "      <td>2.0</td>\n",
              "      <td>12.0</td>\n",
              "      <td>2019.0</td>\n",
              "    </tr>\n",
              "    <tr>\n",
              "      <th>3</th>\n",
              "      <td>7795-CFOCW</td>\n",
              "      <td>2016-05-01</td>\n",
              "      <td>No</td>\n",
              "      <td>One year</td>\n",
              "      <td>No</td>\n",
              "      <td>Bank transfer (automatic)</td>\n",
              "      <td>42.30</td>\n",
              "      <td>1840.75</td>\n",
              "      <td>45.0</td>\n",
              "      <td>NaN</td>\n",
              "      <td>NaN</td>\n",
              "    </tr>\n",
              "    <tr>\n",
              "      <th>4</th>\n",
              "      <td>9237-HQITU</td>\n",
              "      <td>2019-09-01</td>\n",
              "      <td>2019-11-01</td>\n",
              "      <td>Month-to-month</td>\n",
              "      <td>Yes</td>\n",
              "      <td>Electronic check</td>\n",
              "      <td>70.70</td>\n",
              "      <td>151.65</td>\n",
              "      <td>2.0</td>\n",
              "      <td>11.0</td>\n",
              "      <td>2019.0</td>\n",
              "    </tr>\n",
              "  </tbody>\n",
              "</table>\n",
              "</div>"
            ],
            "text/plain": [
              "   customerid  begindate     enddate  ... totaltime endmonth endyear\n",
              "0  7590-VHVEG 2020-01-01          No  ...       1.0      NaN     NaN\n",
              "1  5575-GNVDE 2017-04-01          No  ...      34.0      NaN     NaN\n",
              "2  3668-QPYBK 2019-10-01  2019-12-01  ...       2.0     12.0  2019.0\n",
              "3  7795-CFOCW 2016-05-01          No  ...      45.0      NaN     NaN\n",
              "4  9237-HQITU 2019-09-01  2019-11-01  ...       2.0     11.0  2019.0\n",
              "\n",
              "[5 rows x 11 columns]"
            ]
          },
          "metadata": {
            "tags": []
          },
          "execution_count": 26
        }
      ]
    },
    {
      "cell_type": "code",
      "metadata": {
        "id": "uAg2Gde86N4H"
      },
      "source": [
        "contact['beginmonth'] = pd.DatetimeIndex(contact['begindate']).month\n",
        "contact['beginyear'] = pd.DatetimeIndex(contact['begindate']).year"
      ],
      "execution_count": null,
      "outputs": []
    },
    {
      "cell_type": "code",
      "metadata": {
        "id": "GoH5OYrQ0sTy",
        "outputId": "73f32c14-55b7-45bd-e176-0892e22ed80a",
        "colab": {
          "base_uri": "https://localhost:8080/",
          "height": 204
        }
      },
      "source": [
        "contact.head()"
      ],
      "execution_count": null,
      "outputs": [
        {
          "output_type": "execute_result",
          "data": {
            "text/html": [
              "<div>\n",
              "<style scoped>\n",
              "    .dataframe tbody tr th:only-of-type {\n",
              "        vertical-align: middle;\n",
              "    }\n",
              "\n",
              "    .dataframe tbody tr th {\n",
              "        vertical-align: top;\n",
              "    }\n",
              "\n",
              "    .dataframe thead th {\n",
              "        text-align: right;\n",
              "    }\n",
              "</style>\n",
              "<table border=\"1\" class=\"dataframe\">\n",
              "  <thead>\n",
              "    <tr style=\"text-align: right;\">\n",
              "      <th></th>\n",
              "      <th>customerid</th>\n",
              "      <th>begindate</th>\n",
              "      <th>enddate</th>\n",
              "      <th>type</th>\n",
              "      <th>paperlessbilling</th>\n",
              "      <th>paymentmethod</th>\n",
              "      <th>monthlycharges</th>\n",
              "      <th>totalcharges</th>\n",
              "      <th>totaltime</th>\n",
              "      <th>endmonth</th>\n",
              "      <th>endyear</th>\n",
              "      <th>beginmonth</th>\n",
              "      <th>beginyear</th>\n",
              "    </tr>\n",
              "  </thead>\n",
              "  <tbody>\n",
              "    <tr>\n",
              "      <th>0</th>\n",
              "      <td>7590-VHVEG</td>\n",
              "      <td>2020-01-01</td>\n",
              "      <td>No</td>\n",
              "      <td>Month-to-month</td>\n",
              "      <td>Yes</td>\n",
              "      <td>Electronic check</td>\n",
              "      <td>29.85</td>\n",
              "      <td>29.85</td>\n",
              "      <td>1.0</td>\n",
              "      <td>NaN</td>\n",
              "      <td>NaN</td>\n",
              "      <td>1</td>\n",
              "      <td>2020</td>\n",
              "    </tr>\n",
              "    <tr>\n",
              "      <th>1</th>\n",
              "      <td>5575-GNVDE</td>\n",
              "      <td>2017-04-01</td>\n",
              "      <td>No</td>\n",
              "      <td>One year</td>\n",
              "      <td>No</td>\n",
              "      <td>Mailed check</td>\n",
              "      <td>56.95</td>\n",
              "      <td>1889.50</td>\n",
              "      <td>34.0</td>\n",
              "      <td>NaN</td>\n",
              "      <td>NaN</td>\n",
              "      <td>4</td>\n",
              "      <td>2017</td>\n",
              "    </tr>\n",
              "    <tr>\n",
              "      <th>2</th>\n",
              "      <td>3668-QPYBK</td>\n",
              "      <td>2019-10-01</td>\n",
              "      <td>2019-12-01</td>\n",
              "      <td>Month-to-month</td>\n",
              "      <td>Yes</td>\n",
              "      <td>Mailed check</td>\n",
              "      <td>53.85</td>\n",
              "      <td>108.15</td>\n",
              "      <td>2.0</td>\n",
              "      <td>12.0</td>\n",
              "      <td>2019.0</td>\n",
              "      <td>10</td>\n",
              "      <td>2019</td>\n",
              "    </tr>\n",
              "    <tr>\n",
              "      <th>3</th>\n",
              "      <td>7795-CFOCW</td>\n",
              "      <td>2016-05-01</td>\n",
              "      <td>No</td>\n",
              "      <td>One year</td>\n",
              "      <td>No</td>\n",
              "      <td>Bank transfer (automatic)</td>\n",
              "      <td>42.30</td>\n",
              "      <td>1840.75</td>\n",
              "      <td>45.0</td>\n",
              "      <td>NaN</td>\n",
              "      <td>NaN</td>\n",
              "      <td>5</td>\n",
              "      <td>2016</td>\n",
              "    </tr>\n",
              "    <tr>\n",
              "      <th>4</th>\n",
              "      <td>9237-HQITU</td>\n",
              "      <td>2019-09-01</td>\n",
              "      <td>2019-11-01</td>\n",
              "      <td>Month-to-month</td>\n",
              "      <td>Yes</td>\n",
              "      <td>Electronic check</td>\n",
              "      <td>70.70</td>\n",
              "      <td>151.65</td>\n",
              "      <td>2.0</td>\n",
              "      <td>11.0</td>\n",
              "      <td>2019.0</td>\n",
              "      <td>9</td>\n",
              "      <td>2019</td>\n",
              "    </tr>\n",
              "  </tbody>\n",
              "</table>\n",
              "</div>"
            ],
            "text/plain": [
              "   customerid  begindate     enddate  ... endyear beginmonth beginyear\n",
              "0  7590-VHVEG 2020-01-01          No  ...     NaN          1      2020\n",
              "1  5575-GNVDE 2017-04-01          No  ...     NaN          4      2017\n",
              "2  3668-QPYBK 2019-10-01  2019-12-01  ...  2019.0         10      2019\n",
              "3  7795-CFOCW 2016-05-01          No  ...     NaN          5      2016\n",
              "4  9237-HQITU 2019-09-01  2019-11-01  ...  2019.0          9      2019\n",
              "\n",
              "[5 rows x 13 columns]"
            ]
          },
          "metadata": {
            "tags": []
          },
          "execution_count": 28
        }
      ]
    },
    {
      "cell_type": "markdown",
      "metadata": {
        "id": "tLFNfJQtgWvQ"
      },
      "source": [
        "Так же добавим информацию о среднем расходе клиента:"
      ]
    },
    {
      "cell_type": "code",
      "metadata": {
        "id": "BIHLETY4yFmP"
      },
      "source": [
        "contact = contact[contact['begindate'] != '2020-02-01'].reset_index()"
      ],
      "execution_count": null,
      "outputs": []
    },
    {
      "cell_type": "code",
      "metadata": {
        "id": "lB3xreH1DEWW"
      },
      "source": [
        "contact['averagecharges'] = contact['totalcharges'] / contact['totaltime']"
      ],
      "execution_count": null,
      "outputs": []
    },
    {
      "cell_type": "code",
      "metadata": {
        "id": "8MMrn4_kpNc1"
      },
      "source": [
        ""
      ],
      "execution_count": null,
      "outputs": []
    },
    {
      "cell_type": "markdown",
      "metadata": {
        "id": "zpl4hdjLWFCK"
      },
      "source": [
        "### Таблица **personal**."
      ]
    },
    {
      "cell_type": "code",
      "metadata": {
        "id": "YFnoiyQZm5VQ",
        "outputId": "7dc7df08-028d-448a-9b03-9629903ee7f8",
        "colab": {
          "base_uri": "https://localhost:8080/",
          "height": 204
        }
      },
      "source": [
        "personal.head()"
      ],
      "execution_count": null,
      "outputs": [
        {
          "output_type": "execute_result",
          "data": {
            "text/html": [
              "<div>\n",
              "<style scoped>\n",
              "    .dataframe tbody tr th:only-of-type {\n",
              "        vertical-align: middle;\n",
              "    }\n",
              "\n",
              "    .dataframe tbody tr th {\n",
              "        vertical-align: top;\n",
              "    }\n",
              "\n",
              "    .dataframe thead th {\n",
              "        text-align: right;\n",
              "    }\n",
              "</style>\n",
              "<table border=\"1\" class=\"dataframe\">\n",
              "  <thead>\n",
              "    <tr style=\"text-align: right;\">\n",
              "      <th></th>\n",
              "      <th>customerID</th>\n",
              "      <th>gender</th>\n",
              "      <th>SeniorCitizen</th>\n",
              "      <th>Partner</th>\n",
              "      <th>Dependents</th>\n",
              "    </tr>\n",
              "  </thead>\n",
              "  <tbody>\n",
              "    <tr>\n",
              "      <th>0</th>\n",
              "      <td>7590-VHVEG</td>\n",
              "      <td>Female</td>\n",
              "      <td>0</td>\n",
              "      <td>Yes</td>\n",
              "      <td>No</td>\n",
              "    </tr>\n",
              "    <tr>\n",
              "      <th>1</th>\n",
              "      <td>5575-GNVDE</td>\n",
              "      <td>Male</td>\n",
              "      <td>0</td>\n",
              "      <td>No</td>\n",
              "      <td>No</td>\n",
              "    </tr>\n",
              "    <tr>\n",
              "      <th>2</th>\n",
              "      <td>3668-QPYBK</td>\n",
              "      <td>Male</td>\n",
              "      <td>0</td>\n",
              "      <td>No</td>\n",
              "      <td>No</td>\n",
              "    </tr>\n",
              "    <tr>\n",
              "      <th>3</th>\n",
              "      <td>7795-CFOCW</td>\n",
              "      <td>Male</td>\n",
              "      <td>0</td>\n",
              "      <td>No</td>\n",
              "      <td>No</td>\n",
              "    </tr>\n",
              "    <tr>\n",
              "      <th>4</th>\n",
              "      <td>9237-HQITU</td>\n",
              "      <td>Female</td>\n",
              "      <td>0</td>\n",
              "      <td>No</td>\n",
              "      <td>No</td>\n",
              "    </tr>\n",
              "  </tbody>\n",
              "</table>\n",
              "</div>"
            ],
            "text/plain": [
              "   customerID  gender  SeniorCitizen Partner Dependents\n",
              "0  7590-VHVEG  Female              0     Yes         No\n",
              "1  5575-GNVDE    Male              0      No         No\n",
              "2  3668-QPYBK    Male              0      No         No\n",
              "3  7795-CFOCW    Male              0      No         No\n",
              "4  9237-HQITU  Female              0      No         No"
            ]
          },
          "metadata": {
            "tags": []
          },
          "execution_count": 31
        }
      ]
    },
    {
      "cell_type": "code",
      "metadata": {
        "id": "nili23vkWRDH"
      },
      "source": [
        "personal.columns = personal.columns.str.lower()"
      ],
      "execution_count": null,
      "outputs": []
    },
    {
      "cell_type": "markdown",
      "metadata": {
        "id": "v1QFtiCpWMcO"
      },
      "source": [
        "Таблица содержит следующие данные:  \n",
        "**customerid** - ID клиента;  \n",
        "**gender** - пол клиента;  \n",
        "**seniorcitizen** - является ли клиент пенсионером;  \n",
        "**partner** - женат/замужем;  \n",
        "**dependents** - есть ли дети."
      ]
    },
    {
      "cell_type": "code",
      "metadata": {
        "id": "geTXDdIonNq1",
        "outputId": "d4abd8fb-6f2b-47f3-ea31-58df5d8a967a",
        "colab": {
          "base_uri": "https://localhost:8080/",
          "height": 255
        }
      },
      "source": [
        "print('Общая информация о таблице:')\n",
        "print()\n",
        "personal.info()"
      ],
      "execution_count": null,
      "outputs": [
        {
          "output_type": "stream",
          "text": [
            "Общая информация о таблице:\n",
            "\n",
            "<class 'pandas.core.frame.DataFrame'>\n",
            "RangeIndex: 7043 entries, 0 to 7042\n",
            "Data columns (total 5 columns):\n",
            " #   Column         Non-Null Count  Dtype \n",
            "---  ------         --------------  ----- \n",
            " 0   customerid     7043 non-null   object\n",
            " 1   gender         7043 non-null   object\n",
            " 2   seniorcitizen  7043 non-null   int64 \n",
            " 3   partner        7043 non-null   object\n",
            " 4   dependents     7043 non-null   object\n",
            "dtypes: int64(1), object(4)\n",
            "memory usage: 275.2+ KB\n"
          ],
          "name": "stdout"
        }
      ]
    },
    {
      "cell_type": "code",
      "metadata": {
        "id": "aThEJ0O3W-Ms",
        "outputId": "e9d32171-4280-408a-d2a7-6359acfbb9c4",
        "colab": {
          "base_uri": "https://localhost:8080/",
          "height": 153
        }
      },
      "source": [
        "print('Пропущенные значения:')\n",
        "print()\n",
        "personal.isna().sum()"
      ],
      "execution_count": null,
      "outputs": [
        {
          "output_type": "stream",
          "text": [
            "Пропущенные значения:\n",
            "\n"
          ],
          "name": "stdout"
        },
        {
          "output_type": "execute_result",
          "data": {
            "text/plain": [
              "customerid       0\n",
              "gender           0\n",
              "seniorcitizen    0\n",
              "partner          0\n",
              "dependents       0\n",
              "dtype: int64"
            ]
          },
          "metadata": {
            "tags": []
          },
          "execution_count": 34
        }
      ]
    },
    {
      "cell_type": "code",
      "metadata": {
        "id": "m5UD1ZyvW-_B",
        "outputId": "0ea70162-d6f9-4ca8-d3e0-f08716ebc896",
        "colab": {
          "base_uri": "https://localhost:8080/",
          "height": 51
        }
      },
      "source": [
        "print('Количество дублирующихся значений:', personal.duplicated().sum())\n",
        "print('Количество дублирующихся ID клиента:', personal.duplicated(subset='customerid').sum())"
      ],
      "execution_count": null,
      "outputs": [
        {
          "output_type": "stream",
          "text": [
            "Количество дублирующихся значений: 0\n",
            "Количество дублирующихся ID клиента: 0\n"
          ],
          "name": "stdout"
        }
      ]
    },
    {
      "cell_type": "code",
      "metadata": {
        "id": "kayDwQDWW-5L",
        "outputId": "9a58bc61-cac8-409d-e83e-1c30df541baf",
        "colab": {
          "base_uri": "https://localhost:8080/",
          "height": 289
        }
      },
      "source": [
        "for col in personal.columns[1:]:\n",
        "  print('Варианты', col, ':\\n', personal[col].unique().reshape(-1,1))\n",
        "  print()"
      ],
      "execution_count": null,
      "outputs": [
        {
          "output_type": "stream",
          "text": [
            "Варианты gender :\n",
            " [['Female']\n",
            " ['Male']]\n",
            "\n",
            "Варианты seniorcitizen :\n",
            " [[0]\n",
            " [1]]\n",
            "\n",
            "Варианты partner :\n",
            " [['Yes']\n",
            " ['No']]\n",
            "\n",
            "Варианты dependents :\n",
            " [['No']\n",
            " ['Yes']]\n",
            "\n"
          ],
          "name": "stdout"
        }
      ]
    },
    {
      "cell_type": "markdown",
      "metadata": {
        "id": "M-xA2DH9X5Og"
      },
      "source": [
        "### Таблица **internet**."
      ]
    },
    {
      "cell_type": "code",
      "metadata": {
        "id": "7x4s3mcimoud",
        "outputId": "b0c2c35f-b4af-4e59-d0ec-0688b0001755",
        "colab": {
          "base_uri": "https://localhost:8080/",
          "height": 204
        }
      },
      "source": [
        "internet.head()"
      ],
      "execution_count": null,
      "outputs": [
        {
          "output_type": "execute_result",
          "data": {
            "text/html": [
              "<div>\n",
              "<style scoped>\n",
              "    .dataframe tbody tr th:only-of-type {\n",
              "        vertical-align: middle;\n",
              "    }\n",
              "\n",
              "    .dataframe tbody tr th {\n",
              "        vertical-align: top;\n",
              "    }\n",
              "\n",
              "    .dataframe thead th {\n",
              "        text-align: right;\n",
              "    }\n",
              "</style>\n",
              "<table border=\"1\" class=\"dataframe\">\n",
              "  <thead>\n",
              "    <tr style=\"text-align: right;\">\n",
              "      <th></th>\n",
              "      <th>customerID</th>\n",
              "      <th>InternetService</th>\n",
              "      <th>OnlineSecurity</th>\n",
              "      <th>OnlineBackup</th>\n",
              "      <th>DeviceProtection</th>\n",
              "      <th>TechSupport</th>\n",
              "      <th>StreamingTV</th>\n",
              "      <th>StreamingMovies</th>\n",
              "    </tr>\n",
              "  </thead>\n",
              "  <tbody>\n",
              "    <tr>\n",
              "      <th>0</th>\n",
              "      <td>7590-VHVEG</td>\n",
              "      <td>DSL</td>\n",
              "      <td>No</td>\n",
              "      <td>Yes</td>\n",
              "      <td>No</td>\n",
              "      <td>No</td>\n",
              "      <td>No</td>\n",
              "      <td>No</td>\n",
              "    </tr>\n",
              "    <tr>\n",
              "      <th>1</th>\n",
              "      <td>5575-GNVDE</td>\n",
              "      <td>DSL</td>\n",
              "      <td>Yes</td>\n",
              "      <td>No</td>\n",
              "      <td>Yes</td>\n",
              "      <td>No</td>\n",
              "      <td>No</td>\n",
              "      <td>No</td>\n",
              "    </tr>\n",
              "    <tr>\n",
              "      <th>2</th>\n",
              "      <td>3668-QPYBK</td>\n",
              "      <td>DSL</td>\n",
              "      <td>Yes</td>\n",
              "      <td>Yes</td>\n",
              "      <td>No</td>\n",
              "      <td>No</td>\n",
              "      <td>No</td>\n",
              "      <td>No</td>\n",
              "    </tr>\n",
              "    <tr>\n",
              "      <th>3</th>\n",
              "      <td>7795-CFOCW</td>\n",
              "      <td>DSL</td>\n",
              "      <td>Yes</td>\n",
              "      <td>No</td>\n",
              "      <td>Yes</td>\n",
              "      <td>Yes</td>\n",
              "      <td>No</td>\n",
              "      <td>No</td>\n",
              "    </tr>\n",
              "    <tr>\n",
              "      <th>4</th>\n",
              "      <td>9237-HQITU</td>\n",
              "      <td>Fiber optic</td>\n",
              "      <td>No</td>\n",
              "      <td>No</td>\n",
              "      <td>No</td>\n",
              "      <td>No</td>\n",
              "      <td>No</td>\n",
              "      <td>No</td>\n",
              "    </tr>\n",
              "  </tbody>\n",
              "</table>\n",
              "</div>"
            ],
            "text/plain": [
              "   customerID InternetService  ... StreamingTV StreamingMovies\n",
              "0  7590-VHVEG             DSL  ...          No              No\n",
              "1  5575-GNVDE             DSL  ...          No              No\n",
              "2  3668-QPYBK             DSL  ...          No              No\n",
              "3  7795-CFOCW             DSL  ...          No              No\n",
              "4  9237-HQITU     Fiber optic  ...          No              No\n",
              "\n",
              "[5 rows x 8 columns]"
            ]
          },
          "metadata": {
            "tags": []
          },
          "execution_count": 37
        }
      ]
    },
    {
      "cell_type": "code",
      "metadata": {
        "id": "rvx2m5ysmz86"
      },
      "source": [
        "internet.columns = internet.columns.str.lower()"
      ],
      "execution_count": null,
      "outputs": []
    },
    {
      "cell_type": "markdown",
      "metadata": {
        "id": "csV2y-1mY-_U"
      },
      "source": [
        "Таблица содержит следующие данные:  \n",
        "**customerid** - ID клиента;  \n",
        "**internetservice** - способ интернет соединения;  \n",
        "**onlinesecurity** - подключена ли блокировка небезопасных сайтов;  \n",
        "**onlinebackup** - подключено ли облачное хранилище;  \n",
        "**deviceprotection** - подключен ли антивирус;  \n",
        "**techsupport** - есть ли выделенная линия технической поддержки;  \n",
        "**streamingtv** - подключено ли стриминговое телевидение;  \n",
        "**streamingmovies** - подключен ли каталог фильмов."
      ]
    },
    {
      "cell_type": "code",
      "metadata": {
        "id": "UNtl-uNwYFzO",
        "outputId": "07ba1029-dc93-476f-a933-b64ee9c92434",
        "colab": {
          "base_uri": "https://localhost:8080/",
          "height": 306
        }
      },
      "source": [
        "print('Общая информация о таблице:')\n",
        "print()\n",
        "internet.info()"
      ],
      "execution_count": null,
      "outputs": [
        {
          "output_type": "stream",
          "text": [
            "Общая информация о таблице:\n",
            "\n",
            "<class 'pandas.core.frame.DataFrame'>\n",
            "RangeIndex: 5517 entries, 0 to 5516\n",
            "Data columns (total 8 columns):\n",
            " #   Column            Non-Null Count  Dtype \n",
            "---  ------            --------------  ----- \n",
            " 0   customerid        5517 non-null   object\n",
            " 1   internetservice   5517 non-null   object\n",
            " 2   onlinesecurity    5517 non-null   object\n",
            " 3   onlinebackup      5517 non-null   object\n",
            " 4   deviceprotection  5517 non-null   object\n",
            " 5   techsupport       5517 non-null   object\n",
            " 6   streamingtv       5517 non-null   object\n",
            " 7   streamingmovies   5517 non-null   object\n",
            "dtypes: object(8)\n",
            "memory usage: 344.9+ KB\n"
          ],
          "name": "stdout"
        }
      ]
    },
    {
      "cell_type": "code",
      "metadata": {
        "id": "K6p02O53YF9X",
        "outputId": "05647df0-ffe0-49dc-8ff6-9ba50e339feb",
        "colab": {
          "base_uri": "https://localhost:8080/",
          "height": 51
        }
      },
      "source": [
        "print('Количество дублирующихся значений:', internet.duplicated().sum())\n",
        "print('Количество дублирующихся ID клиента:', internet.duplicated(subset='customerid').sum())"
      ],
      "execution_count": null,
      "outputs": [
        {
          "output_type": "stream",
          "text": [
            "Количество дублирующихся значений: 0\n",
            "Количество дублирующихся ID клиента: 0\n"
          ],
          "name": "stdout"
        }
      ]
    },
    {
      "cell_type": "code",
      "metadata": {
        "id": "5ueeuiJ2YGDG",
        "outputId": "fd99d72e-09f1-4672-e8f8-7b5b4af055a1",
        "colab": {
          "base_uri": "https://localhost:8080/",
          "height": 493
        }
      },
      "source": [
        "for col in internet.columns[1:]:\n",
        "  print('Варианты', col, ':\\n', internet[col].unique().reshape(-1,1))\n",
        "  print()"
      ],
      "execution_count": null,
      "outputs": [
        {
          "output_type": "stream",
          "text": [
            "Варианты internetservice :\n",
            " [['DSL']\n",
            " ['Fiber optic']]\n",
            "\n",
            "Варианты onlinesecurity :\n",
            " [['No']\n",
            " ['Yes']]\n",
            "\n",
            "Варианты onlinebackup :\n",
            " [['Yes']\n",
            " ['No']]\n",
            "\n",
            "Варианты deviceprotection :\n",
            " [['No']\n",
            " ['Yes']]\n",
            "\n",
            "Варианты techsupport :\n",
            " [['No']\n",
            " ['Yes']]\n",
            "\n",
            "Варианты streamingtv :\n",
            " [['No']\n",
            " ['Yes']]\n",
            "\n",
            "Варианты streamingmovies :\n",
            " [['No']\n",
            " ['Yes']]\n",
            "\n"
          ],
          "name": "stdout"
        }
      ]
    },
    {
      "cell_type": "markdown",
      "metadata": {
        "id": "Pol99XTLvjxA"
      },
      "source": [
        "### Таблица **phone**."
      ]
    },
    {
      "cell_type": "code",
      "metadata": {
        "id": "4DPHP1mwYGJc",
        "outputId": "933c0e9e-e482-434d-b299-c2fd71c901a2",
        "colab": {
          "base_uri": "https://localhost:8080/",
          "height": 204
        }
      },
      "source": [
        "phone.head()"
      ],
      "execution_count": null,
      "outputs": [
        {
          "output_type": "execute_result",
          "data": {
            "text/html": [
              "<div>\n",
              "<style scoped>\n",
              "    .dataframe tbody tr th:only-of-type {\n",
              "        vertical-align: middle;\n",
              "    }\n",
              "\n",
              "    .dataframe tbody tr th {\n",
              "        vertical-align: top;\n",
              "    }\n",
              "\n",
              "    .dataframe thead th {\n",
              "        text-align: right;\n",
              "    }\n",
              "</style>\n",
              "<table border=\"1\" class=\"dataframe\">\n",
              "  <thead>\n",
              "    <tr style=\"text-align: right;\">\n",
              "      <th></th>\n",
              "      <th>customerID</th>\n",
              "      <th>MultipleLines</th>\n",
              "    </tr>\n",
              "  </thead>\n",
              "  <tbody>\n",
              "    <tr>\n",
              "      <th>0</th>\n",
              "      <td>5575-GNVDE</td>\n",
              "      <td>No</td>\n",
              "    </tr>\n",
              "    <tr>\n",
              "      <th>1</th>\n",
              "      <td>3668-QPYBK</td>\n",
              "      <td>No</td>\n",
              "    </tr>\n",
              "    <tr>\n",
              "      <th>2</th>\n",
              "      <td>9237-HQITU</td>\n",
              "      <td>No</td>\n",
              "    </tr>\n",
              "    <tr>\n",
              "      <th>3</th>\n",
              "      <td>9305-CDSKC</td>\n",
              "      <td>Yes</td>\n",
              "    </tr>\n",
              "    <tr>\n",
              "      <th>4</th>\n",
              "      <td>1452-KIOVK</td>\n",
              "      <td>Yes</td>\n",
              "    </tr>\n",
              "  </tbody>\n",
              "</table>\n",
              "</div>"
            ],
            "text/plain": [
              "   customerID MultipleLines\n",
              "0  5575-GNVDE            No\n",
              "1  3668-QPYBK            No\n",
              "2  9237-HQITU            No\n",
              "3  9305-CDSKC           Yes\n",
              "4  1452-KIOVK           Yes"
            ]
          },
          "metadata": {
            "tags": []
          },
          "execution_count": 42
        }
      ]
    },
    {
      "cell_type": "code",
      "metadata": {
        "id": "zB0OzaVIYGRy"
      },
      "source": [
        "phone.columns = phone.columns.str.lower()"
      ],
      "execution_count": null,
      "outputs": []
    },
    {
      "cell_type": "markdown",
      "metadata": {
        "id": "fShW5ZTyvzuj"
      },
      "source": [
        "Таблица содержит следующие данные:  \n",
        "**customerid** - ID клиента;   \n",
        "**multiplelines** - подключена ли возможность подключения телефона к нескольким линиям одновременно."
      ]
    },
    {
      "cell_type": "code",
      "metadata": {
        "id": "FlII3ofIYGOS",
        "outputId": "058c9cb6-1d3f-402f-d085-60cb2a0f9081",
        "colab": {
          "base_uri": "https://localhost:8080/",
          "height": 204
        }
      },
      "source": [
        "print('Общая информация о таблице:')\n",
        "print()\n",
        "phone.info()"
      ],
      "execution_count": null,
      "outputs": [
        {
          "output_type": "stream",
          "text": [
            "Общая информация о таблице:\n",
            "\n",
            "<class 'pandas.core.frame.DataFrame'>\n",
            "RangeIndex: 6361 entries, 0 to 6360\n",
            "Data columns (total 2 columns):\n",
            " #   Column         Non-Null Count  Dtype \n",
            "---  ------         --------------  ----- \n",
            " 0   customerid     6361 non-null   object\n",
            " 1   multiplelines  6361 non-null   object\n",
            "dtypes: object(2)\n",
            "memory usage: 99.5+ KB\n"
          ],
          "name": "stdout"
        }
      ]
    },
    {
      "cell_type": "code",
      "metadata": {
        "id": "UhUgYMxVYGGe",
        "outputId": "7e71d590-c862-493a-c24e-7cec02fdbd3d",
        "colab": {
          "base_uri": "https://localhost:8080/",
          "height": 51
        }
      },
      "source": [
        "print('Количество дублирующихся значений:', internet.duplicated().sum())\n",
        "print('Количество дублирующихся ID клиента:', internet.duplicated(subset='customerid').sum())"
      ],
      "execution_count": null,
      "outputs": [
        {
          "output_type": "stream",
          "text": [
            "Количество дублирующихся значений: 0\n",
            "Количество дублирующихся ID клиента: 0\n"
          ],
          "name": "stdout"
        }
      ]
    },
    {
      "cell_type": "code",
      "metadata": {
        "id": "O1PIyp5GYGAg",
        "outputId": "99e288d9-57e8-4db7-92c6-e1a5702a7014",
        "colab": {
          "base_uri": "https://localhost:8080/",
          "height": 85
        }
      },
      "source": [
        "for col in phone.columns[1:]:\n",
        "  print('Варианты', col, ':\\n', phone[col].unique().reshape(-1,1))\n",
        "  print()"
      ],
      "execution_count": null,
      "outputs": [
        {
          "output_type": "stream",
          "text": [
            "Варианты multiplelines :\n",
            " [['No']\n",
            " ['Yes']]\n",
            "\n"
          ],
          "name": "stdout"
        }
      ]
    },
    {
      "cell_type": "markdown",
      "metadata": {
        "id": "6My3PWHyw6jz"
      },
      "source": [
        "### Вывод."
      ]
    },
    {
      "cell_type": "markdown",
      "metadata": {
        "id": "thPx4Uirw-kQ"
      },
      "source": [
        "Мы рассмотрели предоставленные таблицы. Посмотрели по каким параметрам делалась выгрузка и какие значения они принимают.  \n",
        "Таблицу **contact** привели в корректный вид: заполнили пропуска и изменили тип данных, где это необходимо."
      ]
    },
    {
      "cell_type": "markdown",
      "metadata": {
        "id": "gsaCGnOlyOAy"
      },
      "source": [
        "## Исследовательский анализ."
      ]
    },
    {
      "cell_type": "markdown",
      "metadata": {
        "id": "puJY0HRLy262"
      },
      "source": [
        "Для удобства сделаем одну общую таблицу, в которую сведем все данные о клиентах. Если у клиента нет информации о пользовании услугой, то пропущенное значение заменим на 'No'."
      ]
    },
    {
      "cell_type": "code",
      "metadata": {
        "id": "0udt9Hk4YF4J"
      },
      "source": [
        "general = contact.copy()\n",
        "general = general.merge(personal, on='customerid', how='left')\n",
        "general = general.merge(internet, on='customerid', how='left')\n",
        "general = general.merge(phone, on='customerid', how='left')"
      ],
      "execution_count": null,
      "outputs": []
    },
    {
      "cell_type": "markdown",
      "metadata": {
        "id": "uYeQVfriENJG"
      },
      "source": [
        "Добавим столбец, который будет индикатором того ушел клиент или нет."
      ]
    },
    {
      "cell_type": "code",
      "metadata": {
        "id": "IqdTi-26EZlU"
      },
      "source": [
        "general['target'] = (general['enddate'] != 'No') * 1"
      ],
      "execution_count": null,
      "outputs": []
    },
    {
      "cell_type": "code",
      "metadata": {
        "id": "Y44-RDqlnkiB",
        "outputId": "0dc33e97-d512-4b56-e35f-f55c60182e13",
        "colab": {
          "base_uri": "https://localhost:8080/",
          "height": 247
        }
      },
      "source": [
        "pd.set_option('display.max_columns', 50)\n",
        "general = general.fillna('No')\n",
        "general.head(3)"
      ],
      "execution_count": null,
      "outputs": [
        {
          "output_type": "execute_result",
          "data": {
            "text/html": [
              "<div>\n",
              "<style scoped>\n",
              "    .dataframe tbody tr th:only-of-type {\n",
              "        vertical-align: middle;\n",
              "    }\n",
              "\n",
              "    .dataframe tbody tr th {\n",
              "        vertical-align: top;\n",
              "    }\n",
              "\n",
              "    .dataframe thead th {\n",
              "        text-align: right;\n",
              "    }\n",
              "</style>\n",
              "<table border=\"1\" class=\"dataframe\">\n",
              "  <thead>\n",
              "    <tr style=\"text-align: right;\">\n",
              "      <th></th>\n",
              "      <th>index</th>\n",
              "      <th>customerid</th>\n",
              "      <th>begindate</th>\n",
              "      <th>enddate</th>\n",
              "      <th>type</th>\n",
              "      <th>paperlessbilling</th>\n",
              "      <th>paymentmethod</th>\n",
              "      <th>monthlycharges</th>\n",
              "      <th>totalcharges</th>\n",
              "      <th>totaltime</th>\n",
              "      <th>endmonth</th>\n",
              "      <th>endyear</th>\n",
              "      <th>beginmonth</th>\n",
              "      <th>beginyear</th>\n",
              "      <th>averagecharges</th>\n",
              "      <th>gender</th>\n",
              "      <th>seniorcitizen</th>\n",
              "      <th>partner</th>\n",
              "      <th>dependents</th>\n",
              "      <th>internetservice</th>\n",
              "      <th>onlinesecurity</th>\n",
              "      <th>onlinebackup</th>\n",
              "      <th>deviceprotection</th>\n",
              "      <th>techsupport</th>\n",
              "      <th>streamingtv</th>\n",
              "      <th>streamingmovies</th>\n",
              "      <th>multiplelines</th>\n",
              "      <th>target</th>\n",
              "    </tr>\n",
              "  </thead>\n",
              "  <tbody>\n",
              "    <tr>\n",
              "      <th>0</th>\n",
              "      <td>0</td>\n",
              "      <td>7590-VHVEG</td>\n",
              "      <td>2020-01-01</td>\n",
              "      <td>No</td>\n",
              "      <td>Month-to-month</td>\n",
              "      <td>Yes</td>\n",
              "      <td>Electronic check</td>\n",
              "      <td>29.85</td>\n",
              "      <td>29.85</td>\n",
              "      <td>1.0</td>\n",
              "      <td>No</td>\n",
              "      <td>No</td>\n",
              "      <td>1</td>\n",
              "      <td>2020</td>\n",
              "      <td>29.850000</td>\n",
              "      <td>Female</td>\n",
              "      <td>0</td>\n",
              "      <td>Yes</td>\n",
              "      <td>No</td>\n",
              "      <td>DSL</td>\n",
              "      <td>No</td>\n",
              "      <td>Yes</td>\n",
              "      <td>No</td>\n",
              "      <td>No</td>\n",
              "      <td>No</td>\n",
              "      <td>No</td>\n",
              "      <td>No</td>\n",
              "      <td>0</td>\n",
              "    </tr>\n",
              "    <tr>\n",
              "      <th>1</th>\n",
              "      <td>1</td>\n",
              "      <td>5575-GNVDE</td>\n",
              "      <td>2017-04-01</td>\n",
              "      <td>No</td>\n",
              "      <td>One year</td>\n",
              "      <td>No</td>\n",
              "      <td>Mailed check</td>\n",
              "      <td>56.95</td>\n",
              "      <td>1889.50</td>\n",
              "      <td>34.0</td>\n",
              "      <td>No</td>\n",
              "      <td>No</td>\n",
              "      <td>4</td>\n",
              "      <td>2017</td>\n",
              "      <td>55.573529</td>\n",
              "      <td>Male</td>\n",
              "      <td>0</td>\n",
              "      <td>No</td>\n",
              "      <td>No</td>\n",
              "      <td>DSL</td>\n",
              "      <td>Yes</td>\n",
              "      <td>No</td>\n",
              "      <td>Yes</td>\n",
              "      <td>No</td>\n",
              "      <td>No</td>\n",
              "      <td>No</td>\n",
              "      <td>No</td>\n",
              "      <td>0</td>\n",
              "    </tr>\n",
              "    <tr>\n",
              "      <th>2</th>\n",
              "      <td>2</td>\n",
              "      <td>3668-QPYBK</td>\n",
              "      <td>2019-10-01</td>\n",
              "      <td>2019-12-01</td>\n",
              "      <td>Month-to-month</td>\n",
              "      <td>Yes</td>\n",
              "      <td>Mailed check</td>\n",
              "      <td>53.85</td>\n",
              "      <td>108.15</td>\n",
              "      <td>2.0</td>\n",
              "      <td>12</td>\n",
              "      <td>2019</td>\n",
              "      <td>10</td>\n",
              "      <td>2019</td>\n",
              "      <td>54.075000</td>\n",
              "      <td>Male</td>\n",
              "      <td>0</td>\n",
              "      <td>No</td>\n",
              "      <td>No</td>\n",
              "      <td>DSL</td>\n",
              "      <td>Yes</td>\n",
              "      <td>Yes</td>\n",
              "      <td>No</td>\n",
              "      <td>No</td>\n",
              "      <td>No</td>\n",
              "      <td>No</td>\n",
              "      <td>No</td>\n",
              "      <td>1</td>\n",
              "    </tr>\n",
              "  </tbody>\n",
              "</table>\n",
              "</div>"
            ],
            "text/plain": [
              "   index  customerid  begindate     enddate            type paperlessbilling  \\\n",
              "0      0  7590-VHVEG 2020-01-01          No  Month-to-month              Yes   \n",
              "1      1  5575-GNVDE 2017-04-01          No        One year               No   \n",
              "2      2  3668-QPYBK 2019-10-01  2019-12-01  Month-to-month              Yes   \n",
              "\n",
              "      paymentmethod  monthlycharges  totalcharges  totaltime endmonth endyear  \\\n",
              "0  Electronic check           29.85         29.85        1.0       No      No   \n",
              "1      Mailed check           56.95       1889.50       34.0       No      No   \n",
              "2      Mailed check           53.85        108.15        2.0       12    2019   \n",
              "\n",
              "   beginmonth  beginyear  averagecharges  gender  seniorcitizen partner  \\\n",
              "0           1       2020       29.850000  Female              0     Yes   \n",
              "1           4       2017       55.573529    Male              0      No   \n",
              "2          10       2019       54.075000    Male              0      No   \n",
              "\n",
              "  dependents internetservice onlinesecurity onlinebackup deviceprotection  \\\n",
              "0         No             DSL             No          Yes               No   \n",
              "1         No             DSL            Yes           No              Yes   \n",
              "2         No             DSL            Yes          Yes               No   \n",
              "\n",
              "  techsupport streamingtv streamingmovies multiplelines  target  \n",
              "0          No          No              No            No       0  \n",
              "1          No          No              No            No       0  \n",
              "2          No          No              No            No       1  "
            ]
          },
          "metadata": {
            "tags": []
          },
          "execution_count": 49
        }
      ]
    },
    {
      "cell_type": "markdown",
      "metadata": {
        "id": "omGBvghe21PU"
      },
      "source": [
        "Сравним общее число клиентов с числом ушедших клиентов по всем признакам."
      ]
    },
    {
      "cell_type": "code",
      "metadata": {
        "id": "IZBfmICdO4qR",
        "outputId": "91897650-aec1-42bb-9e56-798cc86c51aa",
        "colab": {
          "base_uri": "https://localhost:8080/",
          "height": 153
        }
      },
      "source": [
        "general.columns"
      ],
      "execution_count": null,
      "outputs": [
        {
          "output_type": "execute_result",
          "data": {
            "text/plain": [
              "Index(['index', 'customerid', 'begindate', 'enddate', 'type',\n",
              "       'paperlessbilling', 'paymentmethod', 'monthlycharges', 'totalcharges',\n",
              "       'totaltime', 'endmonth', 'endyear', 'beginmonth', 'beginyear',\n",
              "       'averagecharges', 'gender', 'seniorcitizen', 'partner', 'dependents',\n",
              "       'internetservice', 'onlinesecurity', 'onlinebackup', 'deviceprotection',\n",
              "       'techsupport', 'streamingtv', 'streamingmovies', 'multiplelines',\n",
              "       'target'],\n",
              "      dtype='object')"
            ]
          },
          "metadata": {
            "tags": []
          },
          "execution_count": 50
        }
      ]
    },
    {
      "cell_type": "code",
      "metadata": {
        "id": "_pC3erndO8A3"
      },
      "source": [
        "columns = ['enddate', 'type', 'paperlessbilling',\n",
        "       'paymentmethod', 'totaltime', 'endmonth', 'endyear', 'beginmonth', \n",
        "       'beginyear', 'gender', 'seniorcitizen', 'partner', 'dependents', \n",
        "       'internetservice', 'onlinesecurity', 'onlinebackup', \n",
        "       'deviceprotection', 'techsupport', 'streamingtv', 'streamingmovies',\n",
        "       'multiplelines']"
      ],
      "execution_count": null,
      "outputs": []
    },
    {
      "cell_type": "code",
      "metadata": {
        "id": "FVzKfUoPO3B0",
        "outputId": "876863e3-fa27-4a8e-a502-d7383bc966a4",
        "colab": {
          "base_uri": "https://localhost:8080/",
          "height": 1000
        }
      },
      "source": [
        "for col in columns:\n",
        "  plt.figure(figsize = (20,5))\n",
        "  plt.subplot(1, 2, 1)\n",
        "  sns.countplot(x=col, data=general)\n",
        "  plt.xlabel(col)\n",
        "  plt.ylabel('Количество')\n",
        "  plt.title('Общее число клиентов для ' + str(col))\n",
        "  plt.grid(True)\n",
        "  plt.subplot(1, 2, 2)\n",
        "  sns.countplot(x=col, data=general[general['target'] == 1])\n",
        "  plt.xlabel(col)\n",
        "  plt.ylabel('Количество')\n",
        "  plt.title('Число ушедших клиентов для ' + str(col))\n",
        "  plt.grid(True)\n",
        "  plt.show()"
      ],
      "execution_count": null,
      "outputs": [
        {
          "output_type": "display_data",
          "data": {
            "image/png": "[encoded data removed]",
            "text/plain": [
              "<Figure size 1440x360 with 2 Axes>"
            ]
          },
          "metadata": {
            "tags": [],
            "needs_background": "light"
          }
        },
        {
          "output_type": "display_data",
          "data": {
            "image/png": "[encoded data removed]",
            "text/plain": [
              "<Figure size 1440x360 with 2 Axes>"
            ]
          },
          "metadata": {
            "tags": [],
            "needs_background": "light"
          }
        },
        {
          "output_type": "display_data",
          "data": {
            "image/png": "[encoded data removed]",
            "text/plain": [
              "<Figure size 1440x360 with 2 Axes>"
            ]
          },
          "metadata": {
            "tags": [],
            "needs_background": "light"
          }
        },
        {
          "output_type": "display_data",
          "data": {
            "image/png": "[encoded data removed]",
            "text/plain": [
              "<Figure size 1440x360 with 2 Axes>"
            ]
          },
          "metadata": {
            "tags": [],
            "needs_background": "light"
          }
        },
        {
          "output_type": "display_data",
          "data": {
            "image/png": "[encoded data removed]",
            "text/plain": [
              "<Figure size 1440x360 with 2 Axes>"
            ]
          },
          "metadata": {
            "tags": [],
            "needs_background": "light"
          }
        },
        {
          "output_type": "display_data",
          "data": {
            "image/png": "[encoded data removed]",
            "text/plain": [
              "<Figure size 1440x360 with 2 Axes>"
            ]
          },
          "metadata": {
            "tags": [],
            "needs_background": "light"
          }
        },
        {
          "output_type": "display_data",
          "data": {
            "image/png": "[encoded data removed]",
            "text/plain": [
              "<Figure size 1440x360 with 2 Axes>"
            ]
          },
          "metadata": {
            "tags": [],
            "needs_background": "light"
          }
        },
        {
          "output_type": "display_data",
          "data": {
            "image/png": "[encoded data removed]",
            "text/plain": [
              "<Figure size 1440x360 with 2 Axes>"
            ]
          },
          "metadata": {
            "tags": [],
            "needs_background": "light"
          }
        },
        {
          "output_type": "display_data",
          "data": {
            "image/png": "[encoded data removed]",
            "text/plain": [
              "<Figure size 1440x360 with 2 Axes>"
            ]
          },
          "metadata": {
            "tags": [],
            "needs_background": "light"
          }
        },
        {
          "output_type": "display_data",
          "data": {
            "image/png": "[encoded data removed]",
            "text/plain": [
              "<Figure size 1440x360 with 2 Axes>"
            ]
          },
          "metadata": {
            "tags": [],
            "needs_background": "light"
          }
        },
        {
          "output_type": "display_data",
          "data": {
            "image/png": "[encoded data removed]",
            "text/plain": [
              "<Figure size 1440x360 with 2 Axes>"
            ]
          },
          "metadata": {
            "tags": [],
            "needs_background": "light"
          }
        },
        {
          "output_type": "display_data",
          "data": {
            "image/png": "[encoded data removed]",
            "text/plain": [
              "<Figure size 1440x360 with 2 Axes>"
            ]
          },
          "metadata": {
            "tags": [],
            "needs_background": "light"
          }
        },
        {
          "output_type": "display_data",
          "data": {
            "image/png": "[encoded data removed]",
            "text/plain": [
              "<Figure size 1440x360 with 2 Axes>"
            ]
          },
          "metadata": {
            "tags": [],
            "needs_background": "light"
          }
        },
        {
          "output_type": "display_data",
          "data": {
            "image/png": "[encoded data removed]",
            "text/plain": [
              "<Figure size 1440x360 with 2 Axes>"
            ]
          },
          "metadata": {
            "tags": [],
            "needs_background": "light"
          }
        },
        {
          "output_type": "display_data",
          "data": {
            "image/png": "[encoded data removed]",
            "text/plain": [
              "<Figure size 1440x360 with 2 Axes>"
            ]
          },
          "metadata": {
            "tags": [],
            "needs_background": "light"
          }
        },
        {
          "output_type": "display_data",
          "data": {
            "image/png": "[encoded data removed]",
            "text/plain": [
              "<Figure size 1440x360 with 2 Axes>"
            ]
          },
          "metadata": {
            "tags": [],
            "needs_background": "light"
          }
        },
        {
          "output_type": "display_data",
          "data": {
            "image/png": "[encoded data removed]",
            "text/plain": [
              "<Figure size 1440x360 with 2 Axes>"
            ]
          },
          "metadata": {
            "tags": [],
            "needs_background": "light"
          }
        },
        {
          "output_type": "display_data",
          "data": {
            "image/png": "[encoded data removed]",
            "text/plain": [
              "<Figure size 1440x360 with 2 Axes>"
            ]
          },
          "metadata": {
            "tags": [],
            "needs_background": "light"
          }
        },
        {
          "output_type": "display_data",
          "data": {
            "image/png": "[encoded data removed]",
            "text/plain": [
              "<Figure size 1440x360 with 2 Axes>"
            ]
          },
          "metadata": {
            "tags": [],
            "needs_background": "light"
          }
        },
        {
          "output_type": "display_data",
          "data": {
            "image/png": "[encoded data removed]",
            "text/plain": [
              "<Figure size 1440x360 with 2 Axes>"
            ]
          },
          "metadata": {
            "tags": [],
            "needs_background": "light"
          }
        },
        {
          "output_type": "display_data",
          "data": {
            "image/png": "[encoded data removed]",
            "text/plain": [
              "<Figure size 1440x360 with 2 Axes>"
            ]
          },
          "metadata": {
            "tags": [],
            "needs_background": "light"
          }
        }
      ]
    },
    {
      "cell_type": "code",
      "metadata": {
        "id": "WSFuMYatqcKz"
      },
      "source": [
        "columns_numeric = ['monthlycharges', 'totalcharges', \n",
        "                   'totaltime', 'averagecharges']"
      ],
      "execution_count": null,
      "outputs": []
    },
    {
      "cell_type": "code",
      "metadata": {
        "id": "1RoxDT30O3J7",
        "outputId": "46ed9273-5a69-44dd-8c79-30e3042f55cd",
        "colab": {
          "base_uri": "https://localhost:8080/",
          "height": 1000
        }
      },
      "source": [
        "for col in columns_numeric:\n",
        "  plt.figure(figsize = (20,5))\n",
        "  plt.subplot(1, 2, 1)\n",
        "  sns.histplot(general[col])\n",
        "  plt.xlabel(col)\n",
        "  plt.ylabel('Количество')\n",
        "  plt.title('Общее число клиентов для ' + str(col))\n",
        "  plt.grid(True)\n",
        "  plt.subplot(1, 2, 2)\n",
        "  sns.histplot(general[general['target'] == 1][col])\n",
        "  plt.xlabel(col)\n",
        "  plt.ylabel('Количество')\n",
        "  plt.title('Число ушедших клиентов для ' + str(col))\n",
        "  plt.grid(True)\n",
        "  plt.show()"
      ],
      "execution_count": null,
      "outputs": [
        {
          "output_type": "display_data",
          "data": {
            "image/png": "[encoded data removed]",
            "text/plain": [
              "<Figure size 1440x360 with 2 Axes>"
            ]
          },
          "metadata": {
            "tags": [],
            "needs_background": "light"
          }
        },
        {
          "output_type": "display_data",
          "data": {
            "image/png": "[encoded data removed]",
            "text/plain": [
              "<Figure size 1440x360 with 2 Axes>"
            ]
          },
          "metadata": {
            "tags": [],
            "needs_background": "light"
          }
        },
        {
          "output_type": "display_data",
          "data": {
            "image/png": "[encoded data removed]",
            "text/plain": [
              "<Figure size 1440x360 with 2 Axes>"
            ]
          },
          "metadata": {
            "tags": [],
            "needs_background": "light"
          }
        },
        {
          "output_type": "display_data",
          "data": {
            "image/png": "[encoded data removed]",
            "text/plain": [
              "<Figure size 1440x360 with 2 Axes>"
            ]
          },
          "metadata": {
            "tags": [],
            "needs_background": "light"
          }
        }
      ]
    },
    {
      "cell_type": "markdown",
      "metadata": {
        "id": "f2s8g6hmrj1s"
      },
      "source": [
        "Посмотрим, как параметры корреклируют между собой."
      ]
    },
    {
      "cell_type": "code",
      "metadata": {
        "id": "1lbAnACZrQor",
        "outputId": "4fc340ae-702b-4a1f-f2e6-56ff1b511f47",
        "colab": {
          "base_uri": "https://localhost:8080/",
          "height": 328
        }
      },
      "source": [
        "general.corr()"
      ],
      "execution_count": null,
      "outputs": [
        {
          "output_type": "execute_result",
          "data": {
            "text/html": [
              "<div>\n",
              "<style scoped>\n",
              "    .dataframe tbody tr th:only-of-type {\n",
              "        vertical-align: middle;\n",
              "    }\n",
              "\n",
              "    .dataframe tbody tr th {\n",
              "        vertical-align: top;\n",
              "    }\n",
              "\n",
              "    .dataframe thead th {\n",
              "        text-align: right;\n",
              "    }\n",
              "</style>\n",
              "<table border=\"1\" class=\"dataframe\">\n",
              "  <thead>\n",
              "    <tr style=\"text-align: right;\">\n",
              "      <th></th>\n",
              "      <th>index</th>\n",
              "      <th>monthlycharges</th>\n",
              "      <th>totalcharges</th>\n",
              "      <th>totaltime</th>\n",
              "      <th>beginmonth</th>\n",
              "      <th>beginyear</th>\n",
              "      <th>averagecharges</th>\n",
              "      <th>seniorcitizen</th>\n",
              "      <th>target</th>\n",
              "    </tr>\n",
              "  </thead>\n",
              "  <tbody>\n",
              "    <tr>\n",
              "      <th>index</th>\n",
              "      <td>1.000000</td>\n",
              "      <td>-0.012938</td>\n",
              "      <td>0.001820</td>\n",
              "      <td>0.006801</td>\n",
              "      <td>0.008021</td>\n",
              "      <td>-0.008539</td>\n",
              "      <td>-0.012462</td>\n",
              "      <td>0.008057</td>\n",
              "      <td>0.010133</td>\n",
              "    </tr>\n",
              "    <tr>\n",
              "      <th>monthlycharges</th>\n",
              "      <td>-0.012938</td>\n",
              "      <td>1.000000</td>\n",
              "      <td>0.651065</td>\n",
              "      <td>0.246862</td>\n",
              "      <td>-0.019613</td>\n",
              "      <td>-0.263086</td>\n",
              "      <td>0.996237</td>\n",
              "      <td>0.219874</td>\n",
              "      <td>0.192858</td>\n",
              "    </tr>\n",
              "    <tr>\n",
              "      <th>totalcharges</th>\n",
              "      <td>0.001820</td>\n",
              "      <td>0.651065</td>\n",
              "      <td>1.000000</td>\n",
              "      <td>0.825880</td>\n",
              "      <td>-0.196624</td>\n",
              "      <td>-0.819304</td>\n",
              "      <td>0.650915</td>\n",
              "      <td>0.102411</td>\n",
              "      <td>-0.199484</td>\n",
              "    </tr>\n",
              "    <tr>\n",
              "      <th>totaltime</th>\n",
              "      <td>0.006801</td>\n",
              "      <td>0.246862</td>\n",
              "      <td>0.825880</td>\n",
              "      <td>1.000000</td>\n",
              "      <td>-0.233515</td>\n",
              "      <td>-0.987441</td>\n",
              "      <td>0.246198</td>\n",
              "      <td>0.015683</td>\n",
              "      <td>-0.354049</td>\n",
              "    </tr>\n",
              "    <tr>\n",
              "      <th>beginmonth</th>\n",
              "      <td>0.008021</td>\n",
              "      <td>-0.019613</td>\n",
              "      <td>-0.196624</td>\n",
              "      <td>-0.233515</td>\n",
              "      <td>1.000000</td>\n",
              "      <td>0.084872</td>\n",
              "      <td>-0.020484</td>\n",
              "      <td>0.028569</td>\n",
              "      <td>0.180522</td>\n",
              "    </tr>\n",
              "    <tr>\n",
              "      <th>beginyear</th>\n",
              "      <td>-0.008539</td>\n",
              "      <td>-0.263086</td>\n",
              "      <td>-0.819304</td>\n",
              "      <td>-0.987441</td>\n",
              "      <td>0.084872</td>\n",
              "      <td>1.000000</td>\n",
              "      <td>-0.262235</td>\n",
              "      <td>-0.027386</td>\n",
              "      <td>0.293770</td>\n",
              "    </tr>\n",
              "    <tr>\n",
              "      <th>averagecharges</th>\n",
              "      <td>-0.012462</td>\n",
              "      <td>0.996237</td>\n",
              "      <td>0.650915</td>\n",
              "      <td>0.246198</td>\n",
              "      <td>-0.020484</td>\n",
              "      <td>-0.262235</td>\n",
              "      <td>1.000000</td>\n",
              "      <td>0.217616</td>\n",
              "      <td>0.192033</td>\n",
              "    </tr>\n",
              "    <tr>\n",
              "      <th>seniorcitizen</th>\n",
              "      <td>0.008057</td>\n",
              "      <td>0.219874</td>\n",
              "      <td>0.102411</td>\n",
              "      <td>0.015683</td>\n",
              "      <td>0.028569</td>\n",
              "      <td>-0.027386</td>\n",
              "      <td>0.217616</td>\n",
              "      <td>1.000000</td>\n",
              "      <td>0.150541</td>\n",
              "    </tr>\n",
              "    <tr>\n",
              "      <th>target</th>\n",
              "      <td>0.010133</td>\n",
              "      <td>0.192858</td>\n",
              "      <td>-0.199484</td>\n",
              "      <td>-0.354049</td>\n",
              "      <td>0.180522</td>\n",
              "      <td>0.293770</td>\n",
              "      <td>0.192033</td>\n",
              "      <td>0.150541</td>\n",
              "      <td>1.000000</td>\n",
              "    </tr>\n",
              "  </tbody>\n",
              "</table>\n",
              "</div>"
            ],
            "text/plain": [
              "                   index  monthlycharges  totalcharges  totaltime  beginmonth  \\\n",
              "index           1.000000       -0.012938      0.001820   0.006801    0.008021   \n",
              "monthlycharges -0.012938        1.000000      0.651065   0.246862   -0.019613   \n",
              "totalcharges    0.001820        0.651065      1.000000   0.825880   -0.196624   \n",
              "totaltime       0.006801        0.246862      0.825880   1.000000   -0.233515   \n",
              "beginmonth      0.008021       -0.019613     -0.196624  -0.233515    1.000000   \n",
              "beginyear      -0.008539       -0.263086     -0.819304  -0.987441    0.084872   \n",
              "averagecharges -0.012462        0.996237      0.650915   0.246198   -0.020484   \n",
              "seniorcitizen   0.008057        0.219874      0.102411   0.015683    0.028569   \n",
              "target          0.010133        0.192858     -0.199484  -0.354049    0.180522   \n",
              "\n",
              "                beginyear  averagecharges  seniorcitizen    target  \n",
              "index           -0.008539       -0.012462       0.008057  0.010133  \n",
              "monthlycharges  -0.263086        0.996237       0.219874  0.192858  \n",
              "totalcharges    -0.819304        0.650915       0.102411 -0.199484  \n",
              "totaltime       -0.987441        0.246198       0.015683 -0.354049  \n",
              "beginmonth       0.084872       -0.020484       0.028569  0.180522  \n",
              "beginyear        1.000000       -0.262235      -0.027386  0.293770  \n",
              "averagecharges  -0.262235        1.000000       0.217616  0.192033  \n",
              "seniorcitizen   -0.027386        0.217616       1.000000  0.150541  \n",
              "target           0.293770        0.192033       0.150541  1.000000  "
            ]
          },
          "metadata": {
            "tags": []
          },
          "execution_count": 55
        }
      ]
    },
    {
      "cell_type": "markdown",
      "metadata": {
        "id": "tUDVWUfKrpqn"
      },
      "source": [
        "Видно, что средний платеж и ежемесячный платеж имеют линейную зависимость, поэтому при построении модели, выберем только один из этих параметров."
      ]
    },
    {
      "cell_type": "markdown",
      "metadata": {
        "id": "KllDQEDrKo7z"
      },
      "source": [
        "### Вывод.\n",
        "Из графиков видно, какие признаки больше влияют на решение клиента уйти. Так, например, можно выделить:  \n",
        "**type** – большая часть клиентов уходит с договором *Month-to-month*;  \n",
        "**paymentmothod** – много клиентов разрывает договор со способом оплаты *electronic check*, существующим клиентам с такой системой оплаты можно предложить другую;  \n",
        "**beginyear** – видна тенденция, что уходят новые клиенты, которые заключили договор в последние годы;  \n",
        "**partner** – отсутствие жены/мужа сильнее влияет на решение клиента уйти;   \n",
        "**internetservice** – клиентам, которые пользуются *Fiber optic*, больше не нравится качество услуг, чем клиентам с *DSL*;  \n",
        "**onlinesecurity** – этот параметр, так же сильно влияет на решение клиента уйти, у кого нет защиты намного чаще других разрывают договора;  \n",
        "**onlinebackup** - отсутствие бекапа так же негативно сказывается на решении клиента остаться;  \n",
        "**techsupport** - аналогично с выделенной линией тех. поддержки;  \n",
        "**monthcharges** - так же можно обратить внимание на ежемесячный платеж, в основном уходят те клиенты, у которых ежемесячный платеж в интервале 70-110.  "
      ]
    },
    {
      "cell_type": "markdown",
      "metadata": {
        "id": "6fiL4-TFz-Fb"
      },
      "source": [
        "# Построение модели."
      ]
    },
    {
      "cell_type": "code",
      "metadata": {
        "id": "mNQxph3qNo2z"
      },
      "source": [
        "from sklearn.model_selection import train_test_split\n",
        "from sklearn.model_selection import cross_val_score\n",
        "from sklearn.preprocessing import OneHotEncoder\n",
        "from sklearn.metrics import roc_auc_score\n",
        "from sklearn.metrics import accuracy_score"
      ],
      "execution_count": null,
      "outputs": []
    },
    {
      "cell_type": "markdown",
      "metadata": {
        "id": "fvXeY4TNNX2g"
      },
      "source": [
        "Для начала сразу разделим данные на тестовую и тренировочную выборку. В конце работы будем проводить финальную оценку модели на тестовой выборке."
      ]
    },
    {
      "cell_type": "code",
      "metadata": {
        "id": "vEUEtCokNtEM"
      },
      "source": [
        "general_train, general_test = train_test_split(general, \n",
        "                                               test_size=0.2, \n",
        "                                               stratify = general['target'], \n",
        "                                               random_state=4)"
      ],
      "execution_count": null,
      "outputs": []
    },
    {
      "cell_type": "code",
      "metadata": {
        "id": "qNmivBiv11yt",
        "outputId": "1b4d8370-f583-4d31-f0b5-97f3fed202bb",
        "colab": {
          "base_uri": "https://localhost:8080/",
          "height": 34
        }
      },
      "source": [
        "print('Баланс классов:', general_train['target'].mean())"
      ],
      "execution_count": null,
      "outputs": [
        {
          "output_type": "stream",
          "text": [
            "Баланс классов: 0.2657777777777778\n"
          ],
          "name": "stdout"
        }
      ]
    },
    {
      "cell_type": "markdown",
      "metadata": {
        "id": "tbyjvrdB2gYI"
      },
      "source": [
        "Классы у нас разбалансированы.   \n",
        "В качестве основной метрики будем использовать ROC-AUC. Дополнтельной метрикой будет accuracy, так как она более понятно описывает качество работы алгоритма."
      ]
    },
    {
      "cell_type": "markdown",
      "metadata": {
        "id": "ivVGtUQ01lsi"
      },
      "source": [
        "Рассмотрим несколько моделей обучения и выберем наиболее подходящую для нашей задачи. Оценивать модели будем на кроссвалидации."
      ]
    },
    {
      "cell_type": "markdown",
      "metadata": {
        "id": "5hW_0-FF7H_z"
      },
      "source": [
        "В модели будем использовать следующе признаки:"
      ]
    },
    {
      "cell_type": "code",
      "metadata": {
        "id": "xDXzmtQo66kU"
      },
      "source": [
        "columns = ['type', 'paperlessbilling', 'paymentmethod', \n",
        "           'gender','monthlycharges', 'totalcharges',\n",
        "           'seniorcitizen', 'partner', 'dependents',\n",
        "           'internetservice', 'onlinesecurity', \n",
        "           'onlinebackup', 'deviceprotection',\n",
        "           'techsupport', 'streamingtv', 'streamingmovies',\n",
        "           'multiplelines', 'totaltime']"
      ],
      "execution_count": null,
      "outputs": []
    },
    {
      "cell_type": "markdown",
      "metadata": {
        "id": "x1p12Rwz7P3Z"
      },
      "source": [
        "Проведем кодирование категориальных признаков и создадим датафрейм признаков для модели."
      ]
    },
    {
      "cell_type": "code",
      "metadata": {
        "id": "YsF6Req37V12"
      },
      "source": [
        "data_type = pd.DataFrame(data=general_train[columns].dtypes, columns=['type'])\n",
        "columns_categor = data_type[data_type['type'] == 'object'].index\n",
        "columns_numeric = data_type[data_type['type'] != 'object'].index"
      ],
      "execution_count": null,
      "outputs": []
    },
    {
      "cell_type": "code",
      "metadata": {
        "id": "1H-ImeDJ742T",
        "outputId": "26a6a014-e6e1-4097-9275-34de20004f0e",
        "colab": {
          "base_uri": "https://localhost:8080/",
          "height": 102
        }
      },
      "source": [
        "columns_categor"
      ],
      "execution_count": null,
      "outputs": [
        {
          "output_type": "execute_result",
          "data": {
            "text/plain": [
              "Index(['type', 'paperlessbilling', 'paymentmethod', 'gender', 'partner',\n",
              "       'dependents', 'internetservice', 'onlinesecurity', 'onlinebackup',\n",
              "       'deviceprotection', 'techsupport', 'streamingtv', 'streamingmovies',\n",
              "       'multiplelines'],\n",
              "      dtype='object')"
            ]
          },
          "metadata": {
            "tags": []
          },
          "execution_count": 61
        }
      ]
    },
    {
      "cell_type": "code",
      "metadata": {
        "id": "j6YCXheC909s",
        "outputId": "ef769e1f-0e3d-4f38-d92d-eb420eebfd64",
        "colab": {
          "base_uri": "https://localhost:8080/",
          "height": 34
        }
      },
      "source": [
        "columns_numeric"
      ],
      "execution_count": null,
      "outputs": [
        {
          "output_type": "execute_result",
          "data": {
            "text/plain": [
              "Index(['monthlycharges', 'totalcharges', 'seniorcitizen', 'totaltime'], dtype='object')"
            ]
          },
          "metadata": {
            "tags": []
          },
          "execution_count": 62
        }
      ]
    },
    {
      "cell_type": "code",
      "metadata": {
        "id": "_SLd3M-A-lOe"
      },
      "source": [
        "encoder = OneHotEncoder(sparse=False)\n",
        "train_categor = encoder.fit_transform(general_train[columns_categor])"
      ],
      "execution_count": null,
      "outputs": []
    },
    {
      "cell_type": "code",
      "metadata": {
        "id": "QylHCf825qVQ"
      },
      "source": [
        "from sklearn.preprocessing import StandardScaler\n",
        "scaler = StandardScaler()\n",
        "train_numeric = scaler.fit_transform(general_train[columns_numeric])"
      ],
      "execution_count": null,
      "outputs": []
    },
    {
      "cell_type": "code",
      "metadata": {
        "id": "CKH3z5Qv_Y6C"
      },
      "source": [
        "X_train_transform = np.hstack((train_categor, train_numeric))\n",
        "y_train = general_train['target']"
      ],
      "execution_count": null,
      "outputs": []
    },
    {
      "cell_type": "markdown",
      "metadata": {
        "id": "BhgqYekJyl9X"
      },
      "source": [
        "## RandomForestClassifier."
      ]
    },
    {
      "cell_type": "code",
      "metadata": {
        "id": "7rO1wIjszC1S"
      },
      "source": [
        "from sklearn.ensemble import RandomForestClassifier"
      ],
      "execution_count": null,
      "outputs": []
    },
    {
      "cell_type": "code",
      "metadata": {
        "id": "ofuccaLL0Asa"
      },
      "source": [
        "result = pd.DataFrame(columns=['model', 'roc-auc'])"
      ],
      "execution_count": null,
      "outputs": []
    },
    {
      "cell_type": "markdown",
      "metadata": {
        "id": "yz3EJvs7yn-1"
      },
      "source": [
        "Для модели случайного леса качество модели в основном зависит от количества деревьев, поэтому сразу зададим большое число деревьев, чтобы посмотреть на наилучший показатель модели и чтобы не заниматься перебором гиперпараметров."
      ]
    },
    {
      "cell_type": "code",
      "metadata": {
        "id": "KfYBWmvl05HY"
      },
      "source": [
        "model = RandomForestClassifier(random_state=4, n_estimators=1000)\n",
        "cvs = cross_val_score(model, X_train_transform, y_train, scoring='roc_auc', cv=5)"
      ],
      "execution_count": null,
      "outputs": []
    },
    {
      "cell_type": "code",
      "metadata": {
        "id": "s8FotHxs05QK",
        "outputId": "e0654adc-b4f1-4e14-fe10-6c74519afd09",
        "colab": {
          "base_uri": "https://localhost:8080/",
          "height": 80
        }
      },
      "source": [
        "result.loc[0, 'model'] = 'RandomForestClassifier'\n",
        "result.loc[0, 'roc-auc'] = cvs.mean()\n",
        "result"
      ],
      "execution_count": null,
      "outputs": [
        {
          "output_type": "execute_result",
          "data": {
            "text/html": [
              "<div>\n",
              "<style scoped>\n",
              "    .dataframe tbody tr th:only-of-type {\n",
              "        vertical-align: middle;\n",
              "    }\n",
              "\n",
              "    .dataframe tbody tr th {\n",
              "        vertical-align: top;\n",
              "    }\n",
              "\n",
              "    .dataframe thead th {\n",
              "        text-align: right;\n",
              "    }\n",
              "</style>\n",
              "<table border=\"1\" class=\"dataframe\">\n",
              "  <thead>\n",
              "    <tr style=\"text-align: right;\">\n",
              "      <th></th>\n",
              "      <th>model</th>\n",
              "      <th>roc-auc</th>\n",
              "    </tr>\n",
              "  </thead>\n",
              "  <tbody>\n",
              "    <tr>\n",
              "      <th>0</th>\n",
              "      <td>RandomForestClassifier</td>\n",
              "      <td>0.822293</td>\n",
              "    </tr>\n",
              "  </tbody>\n",
              "</table>\n",
              "</div>"
            ],
            "text/plain": [
              "                    model   roc-auc\n",
              "0  RandomForestClassifier  0.822293"
            ]
          },
          "metadata": {
            "tags": []
          },
          "execution_count": 69
        }
      ]
    },
    {
      "cell_type": "markdown",
      "metadata": {
        "id": "5-3xVAN-1pKk"
      },
      "source": [
        "## LGBMClassifier"
      ]
    },
    {
      "cell_type": "code",
      "metadata": {
        "id": "YUeCXy_q2QpZ"
      },
      "source": [
        "from lightgbm import LGBMClassifier"
      ],
      "execution_count": null,
      "outputs": []
    },
    {
      "cell_type": "markdown",
      "metadata": {
        "id": "FR_DlOM41wxb"
      },
      "source": [
        "В модели LGBMClassifier рассмотрим несколько вариантов скорости обучения"
      ]
    },
    {
      "cell_type": "code",
      "metadata": {
        "id": "WbQRWeIH7WWx"
      },
      "source": [
        "model = LGBMClassifier(random_state=4, learning_rate=0.1, n_estimators=1000)\n",
        "cvs = cross_val_score(model, X_train_transform, y_train, scoring='roc_auc', cv=5)\n",
        "result.loc[1, 'model'] = 'LGBMClassifier_lr_0.1'\n",
        "result.loc[1, 'roc-auc'] = cvs.mean()"
      ],
      "execution_count": null,
      "outputs": []
    },
    {
      "cell_type": "code",
      "metadata": {
        "id": "gjfYXAEPz-gb"
      },
      "source": [
        "model = LGBMClassifier(random_state=4, learning_rate=0.01, n_estimators=1000)\n",
        "cvs = cross_val_score(model, X_train_transform, y_train, scoring='roc_auc', cv=5)\n",
        "result.loc[2, 'model'] = 'LGBMClassifier_lr_0.01'\n",
        "result.loc[2, 'roc-auc'] = cvs.mean()"
      ],
      "execution_count": null,
      "outputs": []
    },
    {
      "cell_type": "code",
      "metadata": {
        "id": "I4xRwwbtz-mf"
      },
      "source": [
        "model = LGBMClassifier(random_state=4, learning_rate=0.001, n_estimators=1000)\n",
        "cvs = cross_val_score(model, X_train_transform, y_train, scoring='roc_auc', cv=5)\n",
        "result.loc[3, 'model'] = 'LGBMClassifier_lr_0.001'\n",
        "result.loc[3, 'roc-auc'] = cvs.mean()"
      ],
      "execution_count": null,
      "outputs": []
    },
    {
      "cell_type": "code",
      "metadata": {
        "id": "Yj5DHiUD2agP",
        "outputId": "d1e72dbf-60ea-408e-8d31-52ee2bd06b28",
        "colab": {
          "base_uri": "https://localhost:8080/",
          "height": 173
        }
      },
      "source": [
        "result"
      ],
      "execution_count": null,
      "outputs": [
        {
          "output_type": "execute_result",
          "data": {
            "text/html": [
              "<div>\n",
              "<style scoped>\n",
              "    .dataframe tbody tr th:only-of-type {\n",
              "        vertical-align: middle;\n",
              "    }\n",
              "\n",
              "    .dataframe tbody tr th {\n",
              "        vertical-align: top;\n",
              "    }\n",
              "\n",
              "    .dataframe thead th {\n",
              "        text-align: right;\n",
              "    }\n",
              "</style>\n",
              "<table border=\"1\" class=\"dataframe\">\n",
              "  <thead>\n",
              "    <tr style=\"text-align: right;\">\n",
              "      <th></th>\n",
              "      <th>model</th>\n",
              "      <th>roc-auc</th>\n",
              "    </tr>\n",
              "  </thead>\n",
              "  <tbody>\n",
              "    <tr>\n",
              "      <th>0</th>\n",
              "      <td>RandomForestClassifier</td>\n",
              "      <td>0.822293</td>\n",
              "    </tr>\n",
              "    <tr>\n",
              "      <th>1</th>\n",
              "      <td>LGBMClassifier_lr_0.1</td>\n",
              "      <td>0.811792</td>\n",
              "    </tr>\n",
              "    <tr>\n",
              "      <th>2</th>\n",
              "      <td>LGBMClassifier_lr_0.01</td>\n",
              "      <td>0.8342</td>\n",
              "    </tr>\n",
              "    <tr>\n",
              "      <th>3</th>\n",
              "      <td>LGBMClassifier_lr_0.001</td>\n",
              "      <td>0.84048</td>\n",
              "    </tr>\n",
              "  </tbody>\n",
              "</table>\n",
              "</div>"
            ],
            "text/plain": [
              "                     model   roc-auc\n",
              "0   RandomForestClassifier  0.822293\n",
              "1    LGBMClassifier_lr_0.1  0.811792\n",
              "2   LGBMClassifier_lr_0.01    0.8342\n",
              "3  LGBMClassifier_lr_0.001   0.84048"
            ]
          },
          "metadata": {
            "tags": []
          },
          "execution_count": 74
        }
      ]
    },
    {
      "cell_type": "markdown",
      "metadata": {
        "id": "w_lPrwAxP-8C"
      },
      "source": [
        "При использовании LGBMClassifier метрика ROC-AUC получается выше. Наибольшее значение получется при скорости обучения равной 0.001   \n",
        "Рассмотрим эту модель получше.  \n",
        "Попробуем изменять максимальное количество листьев."
      ]
    },
    {
      "cell_type": "code",
      "metadata": {
        "id": "cTmpwvbSSV0z",
        "outputId": "a37f940e-e1fa-4f8b-f17b-2d7e2441a267",
        "colab": {
          "base_uri": "https://localhost:8080/",
          "height": 328
        }
      },
      "source": [
        "result_leaves = pd.DataFrame()\n",
        "for i in range(1, 10):\n",
        "  model = LGBMClassifier(random_state=4, learning_rate=0.001, \n",
        "                         n_estimators=10000, num_leaves=5*i)\n",
        "  result_leaves.loc[i, 'num_leaves'] = 5 * i\n",
        "  result_leaves.loc[i, 'roc-auc'] = cross_val_score(model, X_train_transform,\n",
        "                                                    y_train, scoring='roc_auc', \n",
        "                                                    cv=5).mean()\n",
        "result_leaves"
      ],
      "execution_count": null,
      "outputs": [
        {
          "output_type": "execute_result",
          "data": {
            "text/html": [
              "<div>\n",
              "<style scoped>\n",
              "    .dataframe tbody tr th:only-of-type {\n",
              "        vertical-align: middle;\n",
              "    }\n",
              "\n",
              "    .dataframe tbody tr th {\n",
              "        vertical-align: top;\n",
              "    }\n",
              "\n",
              "    .dataframe thead th {\n",
              "        text-align: right;\n",
              "    }\n",
              "</style>\n",
              "<table border=\"1\" class=\"dataframe\">\n",
              "  <thead>\n",
              "    <tr style=\"text-align: right;\">\n",
              "      <th></th>\n",
              "      <th>num_leaves</th>\n",
              "      <th>roc-auc</th>\n",
              "    </tr>\n",
              "  </thead>\n",
              "  <tbody>\n",
              "    <tr>\n",
              "      <th>1</th>\n",
              "      <td>5.0</td>\n",
              "      <td>0.847921</td>\n",
              "    </tr>\n",
              "    <tr>\n",
              "      <th>2</th>\n",
              "      <td>10.0</td>\n",
              "      <td>0.845242</td>\n",
              "    </tr>\n",
              "    <tr>\n",
              "      <th>3</th>\n",
              "      <td>15.0</td>\n",
              "      <td>0.841391</td>\n",
              "    </tr>\n",
              "    <tr>\n",
              "      <th>4</th>\n",
              "      <td>20.0</td>\n",
              "      <td>0.839363</td>\n",
              "    </tr>\n",
              "    <tr>\n",
              "      <th>5</th>\n",
              "      <td>25.0</td>\n",
              "      <td>0.835490</td>\n",
              "    </tr>\n",
              "    <tr>\n",
              "      <th>6</th>\n",
              "      <td>30.0</td>\n",
              "      <td>0.834629</td>\n",
              "    </tr>\n",
              "    <tr>\n",
              "      <th>7</th>\n",
              "      <td>35.0</td>\n",
              "      <td>0.832843</td>\n",
              "    </tr>\n",
              "    <tr>\n",
              "      <th>8</th>\n",
              "      <td>40.0</td>\n",
              "      <td>0.830489</td>\n",
              "    </tr>\n",
              "    <tr>\n",
              "      <th>9</th>\n",
              "      <td>45.0</td>\n",
              "      <td>0.830050</td>\n",
              "    </tr>\n",
              "  </tbody>\n",
              "</table>\n",
              "</div>"
            ],
            "text/plain": [
              "   num_leaves   roc-auc\n",
              "1         5.0  0.847921\n",
              "2        10.0  0.845242\n",
              "3        15.0  0.841391\n",
              "4        20.0  0.839363\n",
              "5        25.0  0.835490\n",
              "6        30.0  0.834629\n",
              "7        35.0  0.832843\n",
              "8        40.0  0.830489\n",
              "9        45.0  0.830050"
            ]
          },
          "metadata": {
            "tags": []
          },
          "execution_count": 75
        }
      ]
    },
    {
      "cell_type": "markdown",
      "metadata": {
        "id": "M__728LwWddf"
      },
      "source": [
        "Наибольшее значение получается при num_leaves = 5.  \n",
        "В итоге получили модель:  \n",
        "*LGBMClassifier(learning_rate=0.001, n_estimators=10000, num_leaves=5)*"
      ]
    },
    {
      "cell_type": "markdown",
      "metadata": {
        "id": "8UkL0hTdW4x6"
      },
      "source": [
        "Так как наш целефой показатель не сбалансирован, посмотрим как повлияет на метрику upsample и downsample."
      ]
    },
    {
      "cell_type": "code",
      "metadata": {
        "id": "uclaxrAlL6Hp"
      },
      "source": [
        "from sklearn.utils import shuffle"
      ],
      "execution_count": null,
      "outputs": []
    },
    {
      "cell_type": "code",
      "metadata": {
        "id": "vDnOGoOkL6-b"
      },
      "source": [
        "X_zero = X_train_transform[y_train == 0]\n",
        "X_one = X_train_transform[y_train == 1]\n",
        "y_zero = y_train[y_train == 0]\n",
        "y_one = y_train[y_train == 1]\n",
        "\n",
        "X_zero_df = pd.DataFrame(X_zero)\n",
        "X_one_df = pd.DataFrame(X_one)\n",
        "\n",
        "N = int(round(general_train[general_train['target'] == 0]['target'].count() / \n",
        "          general_train[general_train['target'] == 1]['target'].count()))\n",
        "\n",
        "X_train_transform_upsample = pd.concat([X_zero_df] + [X_one_df]*N)\n",
        "y_train_upsample = pd.concat([y_zero] + [y_one]*N)\n",
        "\n",
        "X_train_transform_upsample, y_train_upsample = shuffle(X_train_transform_upsample, \n",
        "                                                       y_train_upsample, \n",
        "                                                       random_state=4)"
      ],
      "execution_count": null,
      "outputs": []
    },
    {
      "cell_type": "code",
      "metadata": {
        "id": "y2vEgjRSa4hE"
      },
      "source": [
        "N = (general_train[general_train['target'] == 1]['target'].count() / \n",
        "    general_train[general_train['target'] == 0]['target'].count())\n",
        "\n",
        "X_train_transform_downsample = pd.concat([X_zero_df.sample(frac=N, random_state = 4)] \n",
        "                                         + [X_one_df])\n",
        "y_train_downsample = pd.concat([y_zero.sample(frac=N, random_state = 4)] \n",
        "                               + [y_one])\n",
        "\n",
        "X_train_transform_downsample, y_train_downsample = shuffle(X_train_transform_downsample, \n",
        "                                                           y_train_downsample, \n",
        "                                                           random_state=4)"
      ],
      "execution_count": null,
      "outputs": []
    },
    {
      "cell_type": "code",
      "metadata": {
        "id": "HX0XAkOTaGTk"
      },
      "source": [
        "result_sampling = pd.DataFrame()\n",
        "model = LGBMClassifier(random_state=4, learning_rate=0.001, n_estimators=10000, num_leaves=5)\n",
        "result_sampling.loc[0, 'sample'] = 'upsample'\n",
        "result_sampling.loc[0, 'roc-auc'] = cross_val_score(model, \n",
        "                                                    X_train_transform_upsample, \n",
        "                                                    y_train_upsample, \n",
        "                                                    scoring='roc_auc', \n",
        "                                                    cv=5).mean()\n",
        "                                                    \n",
        "result_sampling.loc[1, 'sample'] = 'downsample'\n",
        "result_sampling.loc[1, 'roc-auc'] = cross_val_score(model, \n",
        "                                                    X_train_transform_downsample, \n",
        "                                                    y_train_downsample, \n",
        "                                                    scoring='roc_auc', \n",
        "                                                    cv=5).mean()\n"
      ],
      "execution_count": null,
      "outputs": []
    },
    {
      "cell_type": "code",
      "metadata": {
        "id": "RU-a0h_JbvFG",
        "outputId": "f76d8555-64db-49ce-e634-ffa3c6a09162",
        "colab": {
          "base_uri": "https://localhost:8080/",
          "height": 111
        }
      },
      "source": [
        "result_sampling"
      ],
      "execution_count": null,
      "outputs": [
        {
          "output_type": "execute_result",
          "data": {
            "text/html": [
              "<div>\n",
              "<style scoped>\n",
              "    .dataframe tbody tr th:only-of-type {\n",
              "        vertical-align: middle;\n",
              "    }\n",
              "\n",
              "    .dataframe tbody tr th {\n",
              "        vertical-align: top;\n",
              "    }\n",
              "\n",
              "    .dataframe thead th {\n",
              "        text-align: right;\n",
              "    }\n",
              "</style>\n",
              "<table border=\"1\" class=\"dataframe\">\n",
              "  <thead>\n",
              "    <tr style=\"text-align: right;\">\n",
              "      <th></th>\n",
              "      <th>sample</th>\n",
              "      <th>roc-auc</th>\n",
              "    </tr>\n",
              "  </thead>\n",
              "  <tbody>\n",
              "    <tr>\n",
              "      <th>0</th>\n",
              "      <td>upsample</td>\n",
              "      <td>0.858652</td>\n",
              "    </tr>\n",
              "    <tr>\n",
              "      <th>1</th>\n",
              "      <td>downsample</td>\n",
              "      <td>0.844956</td>\n",
              "    </tr>\n",
              "  </tbody>\n",
              "</table>\n",
              "</div>"
            ],
            "text/plain": [
              "       sample   roc-auc\n",
              "0    upsample  0.858652\n",
              "1  downsample  0.844956"
            ]
          },
          "metadata": {
            "tags": []
          },
          "execution_count": 80
        }
      ]
    },
    {
      "cell_type": "code",
      "metadata": {
        "id": "QBiGVEhOu9m4",
        "outputId": "b6ffd020-a116-4f00-eeb1-f573314885f6",
        "colab": {
          "base_uri": "https://localhost:8080/",
          "height": 119
        }
      },
      "source": [
        "model = LGBMClassifier(random_state=4, learning_rate=0.001, n_estimators=10000, num_leaves=5)\n",
        "model.fit(X_train_transform_upsample, y_train_upsample)"
      ],
      "execution_count": null,
      "outputs": [
        {
          "output_type": "execute_result",
          "data": {
            "text/plain": [
              "LGBMClassifier(boosting_type='gbdt', class_weight=None, colsample_bytree=1.0,\n",
              "               importance_type='split', learning_rate=0.001, max_depth=-1,\n",
              "               min_child_samples=20, min_child_weight=0.001, min_split_gain=0.0,\n",
              "               n_estimators=10000, n_jobs=-1, num_leaves=5, objective=None,\n",
              "               random_state=4, reg_alpha=0.0, reg_lambda=0.0, silent=True,\n",
              "               subsample=1.0, subsample_for_bin=200000, subsample_freq=0)"
            ]
          },
          "metadata": {
            "tags": []
          },
          "execution_count": 81
        }
      ]
    },
    {
      "cell_type": "markdown",
      "metadata": {
        "id": "8uDTWGJM55jF"
      },
      "source": [
        "Посмотрим, наскаолько сильно каждый признак влияет на результат модели."
      ]
    },
    {
      "cell_type": "code",
      "metadata": {
        "id": "a8dBEnvSvxw9"
      },
      "source": [
        "feature_columns = ['type_Month-to-month', 'type_One year', 'type_Two year',\n",
        "                   'paperlessbilling-No', 'paperlessbilling_Yes',\n",
        "                   'paymentmethod_Bank transfer (automatic)', \n",
        "                   'paymentmethod_Credit card (automatic)',\n",
        "                   'paymentmethod_Electronic check',\n",
        "                   'paymentmethod_Mailed check',\n",
        "                   'gender_Female', 'gender_male',\n",
        "                   'partner_No', 'partner_Yes',\n",
        "                   'dependents_No', 'dependents_Yes',\n",
        "                   'internetservice_DSL', 'internetservice_Fiber optic',\n",
        "                   'internetservice_No',\n",
        "                   'onlinesecurity_No', 'onlinesecurity_Yes',\n",
        "                   'onlinebackup_No', 'onlinebackup_Yes',\n",
        "                   'deviceprotection_No', 'deviceprotection_Yes',\n",
        "                   'techsupport_No', 'techsupport_Yes',\n",
        "                   'streamingtv_No', 'streamingtv_Yes',\n",
        "                   'streamingmovies_No', 'streamingmovies_Yes',\n",
        "                   'multiplelines_No', 'multiplelines_Yes',\n",
        "                   'monthlycharges', 'totalcharges', \n",
        "                   'seniorcitizen', 'totaltime']"
      ],
      "execution_count": null,
      "outputs": []
    },
    {
      "cell_type": "code",
      "metadata": {
        "id": "Sy0SEtoDvaEx"
      },
      "source": [
        "model_feature_importances = pd.DataFrame({'feature': feature_columns,\n",
        "                                          'feature_importances': model.feature_importances_})"
      ],
      "execution_count": null,
      "outputs": []
    },
    {
      "cell_type": "code",
      "metadata": {
        "id": "cbTMK-mUvlJ1",
        "outputId": "ff42732e-9a26-423a-b3cb-8fa50d24dc7d",
        "colab": {
          "base_uri": "https://localhost:8080/",
          "height": 730
        }
      },
      "source": [
        "plt.figure(figsize = (5,12))\n",
        "sns.barplot(x='feature_importances', y='feature', data=model_feature_importances)\n",
        "plt.xlabel('Вес')\n",
        "plt.ylabel('Признак')\n",
        "plt.title('Значимость признаков')\n",
        "plt.grid(True)"
      ],
      "execution_count": null,
      "outputs": [
        {
          "output_type": "display_data",
          "data": {
            "image/png": "[encoded data removed]",
            "text/plain": [
              "<Figure size 360x864 with 1 Axes>"
            ]
          },
          "metadata": {
            "tags": [],
            "needs_background": "light"
          }
        }
      ]
    },
    {
      "cell_type": "markdown",
      "metadata": {
        "id": "GDyOZfye6J7G"
      },
      "source": [
        "Как видно, есть наиболее важные три признака в построении прогноза:  \n",
        "- ежемесячный платеж;\n",
        "- общие затраты;\n",
        "- все время пользования услугами."
      ]
    },
    {
      "cell_type": "markdown",
      "metadata": {
        "id": "XIKfcCQzEGlj"
      },
      "source": [
        "Проверим, как изменится качество модели, если уберем признаки, которые имеют малый вес"
      ]
    },
    {
      "cell_type": "code",
      "metadata": {
        "id": "VMU2VLvZArov"
      },
      "source": [
        "index_noimportance = model_feature_importances[model_feature_importances['feature_importances'] < 500].index"
      ],
      "execution_count": null,
      "outputs": []
    },
    {
      "cell_type": "code",
      "metadata": {
        "id": "3kCjuP1ZBkHV"
      },
      "source": [
        "X_train_importance_columns = np.delete(X_train_transform_upsample.values, index_noimportance, axis=1)"
      ],
      "execution_count": null,
      "outputs": []
    },
    {
      "cell_type": "code",
      "metadata": {
        "id": "-ZFcCZdaCq9-",
        "outputId": "9030c405-5d18-4c8c-c526-2eca80d994f9",
        "colab": {
          "base_uri": "https://localhost:8080/",
          "height": 34
        }
      },
      "source": [
        "model = LGBMClassifier(random_state=4, learning_rate=0.001, n_estimators=10000, num_leaves=5)\n",
        "model.fit(X_train_importance_columns, y_train_upsample)\n",
        "cross_val_score(model, \n",
        "                X_train_transform_downsample, \n",
        "                y_train_downsample, \n",
        "                scoring='roc_auc', \n",
        "                cv=5).mean()"
      ],
      "execution_count": null,
      "outputs": [
        {
          "output_type": "execute_result",
          "data": {
            "text/plain": [
              "0.8449558729768125"
            ]
          },
          "metadata": {
            "tags": []
          },
          "execution_count": 87
        }
      ]
    },
    {
      "cell_type": "markdown",
      "metadata": {
        "id": "b9sYy-9zEXCi"
      },
      "source": [
        "Качество ухудшилось, поэтому оставим признаки такими, какие были изначально."
      ]
    },
    {
      "cell_type": "markdown",
      "metadata": {
        "id": "tc305IBy3Jc4"
      },
      "source": [
        "## Вывод.\n",
        "В итоге подбора модели, мы выбрали:  \n",
        "*LGBMClassifier(learning_rate=0.001, n_estimators=10000, num_leaves=5)*  \n",
        "Для обучения модели будем использовать увеличение выборки, из-за несбалансированности классов."
      ]
    },
    {
      "cell_type": "markdown",
      "metadata": {
        "id": "rNHiKinz4_em"
      },
      "source": [
        "Вторичной метрикой является парвильность определения клинетов (accuracy), которые собираются уйти.   \n",
        "Найдем наиболее оптимальный порог, при котором правильность модели будет наибольшая."
      ]
    },
    {
      "cell_type": "code",
      "metadata": {
        "id": "8dlekcG34cju",
        "outputId": "78492651-fa5f-4081-c76e-ab46a8302779",
        "colab": {
          "base_uri": "https://localhost:8080/",
          "height": 119
        }
      },
      "source": [
        "model = LGBMClassifier(random_state=4, learning_rate=0.001, n_estimators=10000, num_leaves=5)\n",
        "model.fit(X_train_transform_upsample, y_train_upsample)"
      ],
      "execution_count": null,
      "outputs": [
        {
          "output_type": "execute_result",
          "data": {
            "text/plain": [
              "LGBMClassifier(boosting_type='gbdt', class_weight=None, colsample_bytree=1.0,\n",
              "               importance_type='split', learning_rate=0.001, max_depth=-1,\n",
              "               min_child_samples=20, min_child_weight=0.001, min_split_gain=0.0,\n",
              "               n_estimators=10000, n_jobs=-1, num_leaves=5, objective=None,\n",
              "               random_state=4, reg_alpha=0.0, reg_lambda=0.0, silent=True,\n",
              "               subsample=1.0, subsample_for_bin=200000, subsample_freq=0)"
            ]
          },
          "metadata": {
            "tags": []
          },
          "execution_count": 88
        }
      ]
    },
    {
      "cell_type": "code",
      "metadata": {
        "id": "qjFIEdMc4e6q",
        "outputId": "14910af1-60dc-4a7b-bd0a-1c7058ace5e0",
        "colab": {
          "base_uri": "https://localhost:8080/",
          "height": 80
        }
      },
      "source": [
        "res = pd.DataFrame({'prob': model.predict_proba(X_train_transform)[:,1]})\n",
        "res['prod_round'] = res['prob'].round(2)\n",
        "threshold = set(res['prod_round'])\n",
        "res_threshold = pd.DataFrame()\n",
        "i = 0\n",
        "for tsh in threshold:\n",
        "    res_threshold.loc[i, 'threshold'] = tsh\n",
        "    res_threshold.loc[i, 'accuracy'] = accuracy_score(y_train,\n",
        "                                (res['prob'] > tsh)*1)\n",
        "    i += 1\n",
        "res_threshold[res_threshold['accuracy'] == res_threshold['accuracy'].max()]"
      ],
      "execution_count": null,
      "outputs": [
        {
          "output_type": "execute_result",
          "data": {
            "text/html": [
              "<div>\n",
              "<style scoped>\n",
              "    .dataframe tbody tr th:only-of-type {\n",
              "        vertical-align: middle;\n",
              "    }\n",
              "\n",
              "    .dataframe tbody tr th {\n",
              "        vertical-align: top;\n",
              "    }\n",
              "\n",
              "    .dataframe thead th {\n",
              "        text-align: right;\n",
              "    }\n",
              "</style>\n",
              "<table border=\"1\" class=\"dataframe\">\n",
              "  <thead>\n",
              "    <tr style=\"text-align: right;\">\n",
              "      <th></th>\n",
              "      <th>threshold</th>\n",
              "      <th>accuracy</th>\n",
              "    </tr>\n",
              "  </thead>\n",
              "  <tbody>\n",
              "    <tr>\n",
              "      <th>2</th>\n",
              "      <td>0.76</td>\n",
              "      <td>0.818133</td>\n",
              "    </tr>\n",
              "  </tbody>\n",
              "</table>\n",
              "</div>"
            ],
            "text/plain": [
              "   threshold  accuracy\n",
              "2       0.76  0.818133"
            ]
          },
          "metadata": {
            "tags": []
          },
          "execution_count": 89
        }
      ]
    },
    {
      "cell_type": "markdown",
      "metadata": {
        "id": "eKQUMpgp5fUe"
      },
      "source": [
        "Получили наиболее оптимальный порог 0.76."
      ]
    },
    {
      "cell_type": "code",
      "metadata": {
        "id": "HnoWhtsZ2apL",
        "outputId": "5ad88324-20bd-4637-c8ae-7dfa938bddd8",
        "colab": {
          "base_uri": "https://localhost:8080/",
          "height": 34
        }
      },
      "source": [
        "model = LGBMClassifier(random_state=4, learning_rate=0.001, n_estimators=10000, num_leaves=5)\n",
        "model.fit(X_train_transform_upsample, y_train_upsample)\n",
        "X_test_transform = np.hstack((encoder.transform(general_test[columns_categor]), \n",
        "                             scaler.transform(general_test[columns_numeric])))\n",
        "print('ROC-AUC на тестовой выборке:', \n",
        "      roc_auc_score(general_test['target'],\n",
        "                    model.predict_proba(X_test_transform)[:,1]))"
      ],
      "execution_count": null,
      "outputs": [
        {
          "output_type": "stream",
          "text": [
            "ROC-AUC на тестовой выборке: 0.8402529365173862\n"
          ],
          "name": "stdout"
        }
      ]
    },
    {
      "cell_type": "code",
      "metadata": {
        "id": "uJuNn9cu50a3",
        "outputId": "1aeefa74-6e3d-4ca2-8ed0-66bd10aa843b",
        "colab": {
          "base_uri": "https://localhost:8080/",
          "height": 34
        }
      },
      "source": [
        "res_test = pd.DataFrame({'prob': model.predict_proba(X_test_transform)[:,1]})\n",
        "threshold = 0.76\n",
        "accuracy = accuracy_score(general_test['target'], \n",
        "                         (res_test['prob'] >= threshold)*1)\n",
        "print('Accuracy на тестовой выборке:', accuracy)"
      ],
      "execution_count": null,
      "outputs": [
        {
          "output_type": "stream",
          "text": [
            "Accuracy на тестовой выборке: 0.7938877043354655\n"
          ],
          "name": "stdout"
        }
      ]
    },
    {
      "cell_type": "markdown",
      "metadata": {
        "id": "iRYkgdXvSmd0"
      },
      "source": [
        "# Общий вывод.\n",
        "Нам требовалось построить модель, которая бы прогнозировала отток клиентов из компании.  \n",
        "Мы рассмотрели какие у нас данные есть и провели предобработку. Добавили такие признаки как: продолжительность пользования услугами компании в месяцах и средний ежемесячный платеж. \n",
        "При анализе данных, мы увидели некоторые закономерности по признакам:  \n",
        "*type* – большая часть клиентов уходит с договором Month-to-month;  \n",
        "*paymentmothod* – много клиентов разрывает договор со способом оплаты electronic  check, существующим клиентам с такой системой оплаты можно предложить другую;  \n",
        "*beginyear* – видна тенденция, что уходят новые клиенты, которые заключили договор в последние годы;  \n",
        "*partner* – отсутствие мужа/жены сильнее влияет на решение клиента уйти;  \n",
        "*internetservice* – клиентам, которые пользуются Fiber optic, больше не нравится качество услуг, чем клиентам с DSL;  \n",
        "*onlinesecurity* – этот параметр, так же сильно влияет на решение клиента уйти, у кого нет защиты намного чаще других разрывают договора;  \n",
        "*onlinebackup* - отсутствие бекапа так же негативно сказывается на решении клиента остаться;  \n",
        "*techsupport* - аналогично с выделенной линией тех. поддержки;  \n",
        "*monthcharges* - так же можно обратить внимание на ежемесячный платеж, в основном уходят те клиенты, у которых ежемесячный платеж в интервале 70-110.  \n",
        "\n",
        "Нам требовалось построить модель, которая показывает наибольшее значение ROC-AUC. В итоге мы выбрали модель:  \n",
        "LGBMClassifier(learning_rate=0.001, n_estimators=10000, num_leaves=5) с порогом 0.76 \n",
        "\n",
        "В итоге получили на тестовой выборке ROC-AUC = 0.84.  \n",
        "Правильность прогноза составляет 79%"
      ]
    }
  ]
}